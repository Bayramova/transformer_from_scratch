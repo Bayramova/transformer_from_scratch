{
  "cells": [
    {
      "cell_type": "markdown",
      "id": "50bb1423",
      "metadata": {
        "id": "50bb1423",
        "papermill": {
          "duration": 0.012652,
          "end_time": "2022-11-26T21:12:31.849883",
          "exception": false,
          "start_time": "2022-11-26T21:12:31.837231",
          "status": "completed"
        },
        "tags": []
      },
      "source": [
        "# Attention is All You Need"
      ]
    },
    {
      "cell_type": "code",
      "execution_count": 2,
      "id": "75b0ad43",
      "metadata": {
        "execution": {
          "iopub.execute_input": "2022-11-26T21:12:31.875115Z",
          "iopub.status.busy": "2022-11-26T21:12:31.874253Z",
          "iopub.status.idle": "2022-11-26T21:12:31.886308Z",
          "shell.execute_reply": "2022-11-26T21:12:31.885436Z"
        },
        "id": "75b0ad43",
        "papermill": {
          "duration": 0.028192,
          "end_time": "2022-11-26T21:12:31.888523",
          "exception": false,
          "start_time": "2022-11-26T21:12:31.860331",
          "status": "completed"
        },
        "tags": []
      },
      "outputs": [],
      "source": [
        "import subprocess\n",
        "import sys\n",
        "\n",
        "\n",
        "IN_COLAB = 'google.colab' in sys.modules\n",
        "\n",
        "if IN_COLAB:\n",
        "    subprocess.run(\"pip install datasets nltk gensim einops evaluate unidecode\", shell=True)\n",
        "    subprocess.run(\"python -m nltk.downloader punkt\", shell=True)"
      ]
    },
    {
      "cell_type": "code",
      "execution_count": 3,
      "id": "aaba3cf1",
      "metadata": {
        "execution": {
          "iopub.execute_input": "2022-11-26T21:12:49.595703Z",
          "iopub.status.busy": "2022-11-26T21:12:49.595270Z",
          "iopub.status.idle": "2022-11-26T21:13:08.762345Z",
          "shell.execute_reply": "2022-11-26T21:13:08.760928Z"
        },
        "id": "aaba3cf1",
        "outputId": "e3052d82-999e-4541-b13e-e7c35a5daf4f",
        "papermill": {
          "duration": 19.183194,
          "end_time": "2022-11-26T21:13:08.765572",
          "exception": false,
          "start_time": "2022-11-26T21:12:49.582378",
          "status": "completed"
        },
        "tags": [],
        "colab": {
          "referenced_widgets": [
            "cf8066e3ce924703afbd052e237fe4cf",
            "7e6248fe542a4b8b881c9f89b5f091e8",
            "3049694bfd5748a9abf53c4047e0ecfc",
            "df67d3813abb413faf639f5e643f3647",
            "d4e50ab6f8be40409d500de23f118a3d",
            "9054859c0eca45c58ee50f80c26747c1",
            "eae9af9bc6c246d59ddf1f909d97008d",
            "0faea972e00d4001a01bdfbe980e8875",
            "3f1aeec21d994ebc962eb7ca6b383047",
            "bbecd1516cde474ea8b677158f855d7d",
            "e3c617831dea44ec934088e0ead321b8",
            "4cf94a6012bc47aebe8bc33a44e14e39",
            "08576f4a36ff48e792907d5fbb76d103",
            "6179cee084734d28b651ac943005baa0",
            "621f899f91724d248476662e7a9e9b0d",
            "791ab52300bd498593bae85f80021c6d",
            "9d72805208c94a99bb9090242491bab5",
            "b4f820b2d04f434495c625d9e53a65d4",
            "57c27cf325934c4bbc94823d5819a3cf",
            "fc25282222124a15a3ccb6bad794111b",
            "ef8a0aaf7dfe4212a369fafb8c3899ac",
            "42e215011b2a41aa8f5c7450029f27be",
            "7203ce88949d4347bfc30f3d9b65003b",
            "898767e1b5964c678db45a2fdb308d28",
            "2094aea597a3423183e7cca3bdd8a293",
            "0bd22ef38ebd46e2a3b524c536455fb9",
            "fe2ccf87ba3a47b89364563b2d32d2b9",
            "8e3aeb6a9d714d49b20ebf120bad322b",
            "4371a4e8df7949c8acfabc7543625c2a",
            "05d62a047f68498e9f87630e543e479a",
            "68dc3337dd8349fd9bc88af426c00ca7",
            "ba3a863f7e9043f19ed64c264249e337",
            "2e13c7dcc0774c03ad64aaa5df7d514f"
          ],
          "base_uri": "https://localhost:8080/",
          "height": 165
        }
      },
      "outputs": [
        {
          "output_type": "stream",
          "name": "stderr",
          "text": [
            "[nltk_data] Downloading package wordnet to /root/nltk_data...\n",
            "[nltk_data] Downloading package omw-1.4 to /root/nltk_data...\n"
          ]
        },
        {
          "output_type": "display_data",
          "data": {
            "text/plain": [
              "Downloading builder script:   0%|          | 0.00/5.94k [00:00<?, ?B/s]"
            ],
            "application/vnd.jupyter.widget-view+json": {
              "version_major": 2,
              "version_minor": 0,
              "model_id": "cf8066e3ce924703afbd052e237fe4cf"
            }
          },
          "metadata": {}
        },
        {
          "output_type": "display_data",
          "data": {
            "text/plain": [
              "Downloading extra modules:   0%|          | 0.00/1.55k [00:00<?, ?B/s]"
            ],
            "application/vnd.jupyter.widget-view+json": {
              "version_major": 2,
              "version_minor": 0,
              "model_id": "4cf94a6012bc47aebe8bc33a44e14e39"
            }
          },
          "metadata": {}
        },
        {
          "output_type": "display_data",
          "data": {
            "text/plain": [
              "Downloading extra modules:   0%|          | 0.00/3.34k [00:00<?, ?B/s]"
            ],
            "application/vnd.jupyter.widget-view+json": {
              "version_major": 2,
              "version_minor": 0,
              "model_id": "7203ce88949d4347bfc30f3d9b65003b"
            }
          },
          "metadata": {}
        },
        {
          "output_type": "stream",
          "name": "stdout",
          "text": [
            "cuda\n"
          ]
        }
      ],
      "source": [
        "import math\n",
        "import os\n",
        "import pickle\n",
        "\n",
        "import torch\n",
        "import nltk\n",
        "import einops\n",
        "import evaluate\n",
        "\n",
        "from unidecode import unidecode\n",
        "from datasets import load_dataset, load_from_disk\n",
        "\n",
        "nltk.download('wordnet')\n",
        "nltk.download('omw-1.4')\n",
        "\n",
        "bleu = evaluate.load(\"bleu\")\n",
        "\n",
        "device = torch.device(\"cuda\" if torch.cuda.is_available() else \"cpu\")\n",
        "print(device)"
      ]
    },
    {
      "cell_type": "markdown",
      "id": "600db011",
      "metadata": {
        "id": "600db011",
        "papermill": {
          "duration": 0.011545,
          "end_time": "2022-11-26T21:13:08.789968",
          "exception": false,
          "start_time": "2022-11-26T21:13:08.778423",
          "status": "completed"
        },
        "tags": []
      },
      "source": [
        "# Data Preprocessing"
      ]
    },
    {
      "cell_type": "code",
      "execution_count": 7,
      "id": "8ab0edcd",
      "metadata": {
        "execution": {
          "iopub.execute_input": "2022-11-26T21:13:08.975509Z",
          "iopub.status.busy": "2022-11-26T21:13:08.975242Z",
          "iopub.status.idle": "2022-11-26T21:13:08.979350Z",
          "shell.execute_reply": "2022-11-26T21:13:08.978400Z"
        },
        "id": "8ab0edcd",
        "papermill": {
          "duration": 0.019663,
          "end_time": "2022-11-26T21:13:08.981369",
          "exception": false,
          "start_time": "2022-11-26T21:13:08.961706",
          "status": "completed"
        },
        "tags": []
      },
      "outputs": [],
      "source": [
        "path_to_dataset_dir = \"/content\""
      ]
    },
    {
      "cell_type": "code",
      "execution_count": null,
      "id": "3c662268",
      "metadata": {
        "execution": {
          "iopub.execute_input": "2022-11-26T21:13:09.006778Z",
          "iopub.status.busy": "2022-11-26T21:13:09.006516Z",
          "iopub.status.idle": "2022-11-26T21:17:39.537675Z",
          "shell.execute_reply": "2022-11-26T21:17:39.536689Z"
        },
        "id": "3c662268",
        "outputId": "7edee711-7f66-4b77-fe9b-9431d9a2775f",
        "papermill": {
          "duration": 270.546347,
          "end_time": "2022-11-26T21:17:39.539754",
          "exception": false,
          "start_time": "2022-11-26T21:13:08.993407",
          "status": "completed"
        },
        "tags": [],
        "colab": {
          "referenced_widgets": [
            "866808b74b6b4497b7c8e68e4e7592b1",
            "0879e759bede4fb181d254b2eac569c5",
            "4a0919820bbc4b7a85cdb5f54f45f6aa",
            "c586968d2c00455f9d12f620085d3606",
            "809b539ac2374245adaed4b2eaa66753",
            "e294f3b8725948e5b6136bcf09417055",
            "f3eb6a550a824b36938faffeb57afaa6",
            "7b9c6e91263e4194a8d3af4d796c4918",
            "0cccf385c730405c9229dbd2f69ced11",
            "ae527c3fb59c4948a37068c393fcf410",
            "4b234c7ef5a642da9df6f5cef76e229b",
            "f1d390ca68ce450a9fdc2bc4ac8c70ad",
            "ca4662e7e6994b82875fb974d61000a3",
            "37be362b3d954855a371495a9c1c2838"
          ]
        }
      },
      "outputs": [
        {
          "data": {
            "application/vnd.jupyter.widget-view+json": {
              "model_id": "866808b74b6b4497b7c8e68e4e7592b1",
              "version_major": 2,
              "version_minor": 0
            },
            "text/plain": [
              "Downloading builder script:   0%|          | 0.00/1.47k [00:00<?, ?B/s]"
            ]
          },
          "metadata": {},
          "output_type": "display_data"
        },
        {
          "data": {
            "application/vnd.jupyter.widget-view+json": {
              "model_id": "0879e759bede4fb181d254b2eac569c5",
              "version_major": 2,
              "version_minor": 0
            },
            "text/plain": [
              "Downloading metadata:   0%|          | 0.00/2.11k [00:00<?, ?B/s]"
            ]
          },
          "metadata": {},
          "output_type": "display_data"
        },
        {
          "data": {
            "application/vnd.jupyter.widget-view+json": {
              "model_id": "4a0919820bbc4b7a85cdb5f54f45f6aa",
              "version_major": 2,
              "version_minor": 0
            },
            "text/plain": [
              "Downloading extra modules:   0%|          | 0.00/8.72k [00:00<?, ?B/s]"
            ]
          },
          "metadata": {},
          "output_type": "display_data"
        },
        {
          "name": "stdout",
          "output_type": "stream",
          "text": [
            "Downloading and preparing dataset wmt14/de-en (download: 1.58 GiB, generated: 1.27 GiB, post-processed: Unknown size, total: 2.85 GiB) to /root/.cache/huggingface/datasets/wmt14/de-en/1.0.0/6aa64c5c4f2c1c217718c6d6266aad92d1229e761c57379c53752b8c0e55c93b...\n"
          ]
        },
        {
          "data": {
            "application/vnd.jupyter.widget-view+json": {
              "model_id": "c586968d2c00455f9d12f620085d3606",
              "version_major": 2,
              "version_minor": 0
            },
            "text/plain": [
              "Downloading data files:   0%|          | 0/5 [00:00<?, ?it/s]"
            ]
          },
          "metadata": {},
          "output_type": "display_data"
        },
        {
          "data": {
            "application/vnd.jupyter.widget-view+json": {
              "model_id": "809b539ac2374245adaed4b2eaa66753",
              "version_major": 2,
              "version_minor": 0
            },
            "text/plain": [
              "Downloading data:   0%|          | 0.00/658M [00:00<?, ?B/s]"
            ]
          },
          "metadata": {},
          "output_type": "display_data"
        },
        {
          "data": {
            "application/vnd.jupyter.widget-view+json": {
              "model_id": "e294f3b8725948e5b6136bcf09417055",
              "version_major": 2,
              "version_minor": 0
            },
            "text/plain": [
              "Downloading data:   0%|          | 0.00/919M [00:00<?, ?B/s]"
            ]
          },
          "metadata": {},
          "output_type": "display_data"
        },
        {
          "data": {
            "application/vnd.jupyter.widget-view+json": {
              "model_id": "f3eb6a550a824b36938faffeb57afaa6",
              "version_major": 2,
              "version_minor": 0
            },
            "text/plain": [
              "Downloading data:   0%|          | 0.00/80.5M [00:00<?, ?B/s]"
            ]
          },
          "metadata": {},
          "output_type": "display_data"
        },
        {
          "data": {
            "application/vnd.jupyter.widget-view+json": {
              "model_id": "7b9c6e91263e4194a8d3af4d796c4918",
              "version_major": 2,
              "version_minor": 0
            },
            "text/plain": [
              "Downloading data:   0%|          | 0.00/38.7M [00:00<?, ?B/s]"
            ]
          },
          "metadata": {},
          "output_type": "display_data"
        },
        {
          "data": {
            "application/vnd.jupyter.widget-view+json": {
              "model_id": "0cccf385c730405c9229dbd2f69ced11",
              "version_major": 2,
              "version_minor": 0
            },
            "text/plain": [
              "Extracting data files:   0%|          | 0/5 [00:00<?, ?it/s]"
            ]
          },
          "metadata": {},
          "output_type": "display_data"
        },
        {
          "data": {
            "application/vnd.jupyter.widget-view+json": {
              "model_id": "ae527c3fb59c4948a37068c393fcf410",
              "version_major": 2,
              "version_minor": 0
            },
            "text/plain": [
              "Extracting data files: 0it [00:00, ?it/s]"
            ]
          },
          "metadata": {},
          "output_type": "display_data"
        },
        {
          "data": {
            "application/vnd.jupyter.widget-view+json": {
              "model_id": "4b234c7ef5a642da9df6f5cef76e229b",
              "version_major": 2,
              "version_minor": 0
            },
            "text/plain": [
              "Generating train split:   0%|          | 0/4508785 [00:00<?, ? examples/s]"
            ]
          },
          "metadata": {},
          "output_type": "display_data"
        },
        {
          "data": {
            "application/vnd.jupyter.widget-view+json": {
              "model_id": "f1d390ca68ce450a9fdc2bc4ac8c70ad",
              "version_major": 2,
              "version_minor": 0
            },
            "text/plain": [
              "Generating validation split:   0%|          | 0/3000 [00:00<?, ? examples/s]"
            ]
          },
          "metadata": {},
          "output_type": "display_data"
        },
        {
          "data": {
            "application/vnd.jupyter.widget-view+json": {
              "model_id": "ca4662e7e6994b82875fb974d61000a3",
              "version_major": 2,
              "version_minor": 0
            },
            "text/plain": [
              "Generating test split:   0%|          | 0/3003 [00:00<?, ? examples/s]"
            ]
          },
          "metadata": {},
          "output_type": "display_data"
        },
        {
          "name": "stdout",
          "output_type": "stream",
          "text": [
            "Dataset wmt14 downloaded and prepared to /root/.cache/huggingface/datasets/wmt14/de-en/1.0.0/6aa64c5c4f2c1c217718c6d6266aad92d1229e761c57379c53752b8c0e55c93b. Subsequent calls will reuse this data.\n"
          ]
        },
        {
          "data": {
            "application/vnd.jupyter.widget-view+json": {
              "model_id": "37be362b3d954855a371495a9c1c2838",
              "version_major": 2,
              "version_minor": 0
            },
            "text/plain": [
              "  0%|          | 0/3 [00:00<?, ?it/s]"
            ]
          },
          "metadata": {},
          "output_type": "display_data"
        }
      ],
      "source": [
        "wmt14 = load_dataset(\"wmt14\", \"de-en\")"
      ]
    },
    {
      "cell_type": "markdown",
      "source": [
        "Let's leave only first 500000 from the train dataset for computational simplicity:"
      ],
      "metadata": {
        "id": "HBlzeuZxCfZt"
      },
      "id": "HBlzeuZxCfZt"
    },
    {
      "cell_type": "code",
      "execution_count": null,
      "id": "d38bdf00",
      "metadata": {
        "execution": {
          "iopub.execute_input": "2022-11-26T21:17:39.568395Z",
          "iopub.status.busy": "2022-11-26T21:17:39.568109Z",
          "iopub.status.idle": "2022-11-26T21:17:39.637339Z",
          "shell.execute_reply": "2022-11-26T21:17:39.636340Z"
        },
        "id": "d38bdf00",
        "papermill": {
          "duration": 0.086195,
          "end_time": "2022-11-26T21:17:39.639743",
          "exception": false,
          "start_time": "2022-11-26T21:17:39.553548",
          "status": "completed"
        },
        "tags": []
      },
      "outputs": [],
      "source": [
        "wmt14[\"train\"] = wmt14[\"train\"].select(range(500000))"
      ]
    },
    {
      "cell_type": "code",
      "execution_count": null,
      "id": "88bb3b4d",
      "metadata": {
        "execution": {
          "iopub.execute_input": "2022-11-26T21:17:39.669504Z",
          "iopub.status.busy": "2022-11-26T21:17:39.669183Z",
          "iopub.status.idle": "2022-11-26T21:17:39.677608Z",
          "shell.execute_reply": "2022-11-26T21:17:39.676699Z"
        },
        "id": "88bb3b4d",
        "outputId": "599488b1-bd6a-4e65-ca53-7826705f0478",
        "papermill": {
          "duration": 0.025681,
          "end_time": "2022-11-26T21:17:39.679873",
          "exception": false,
          "start_time": "2022-11-26T21:17:39.654192",
          "status": "completed"
        },
        "tags": []
      },
      "outputs": [
        {
          "data": {
            "text/plain": [
              "DatasetDict({\n",
              "    train: Dataset({\n",
              "        features: ['translation'],\n",
              "        num_rows: 500000\n",
              "    })\n",
              "    validation: Dataset({\n",
              "        features: ['translation'],\n",
              "        num_rows: 3000\n",
              "    })\n",
              "    test: Dataset({\n",
              "        features: ['translation'],\n",
              "        num_rows: 3003\n",
              "    })\n",
              "})"
            ]
          },
          "execution_count": 12,
          "metadata": {},
          "output_type": "execute_result"
        }
      ],
      "source": [
        "wmt14"
      ]
    },
    {
      "cell_type": "markdown",
      "source": [
        "Create tokenizers:"
      ],
      "metadata": {
        "id": "uNVhstcOCqNv"
      },
      "id": "uNVhstcOCqNv"
    },
    {
      "cell_type": "code",
      "execution_count": 17,
      "id": "e8399d78",
      "metadata": {
        "execution": {
          "iopub.execute_input": "2022-11-26T21:17:39.710682Z",
          "iopub.status.busy": "2022-11-26T21:17:39.709695Z",
          "iopub.status.idle": "2022-11-26T21:17:39.716213Z",
          "shell.execute_reply": "2022-11-26T21:17:39.715236Z"
        },
        "id": "e8399d78",
        "papermill": {
          "duration": 0.024012,
          "end_time": "2022-11-26T21:17:39.718326",
          "exception": false,
          "start_time": "2022-11-26T21:17:39.694314",
          "status": "completed"
        },
        "tags": []
      },
      "outputs": [],
      "source": [
        "tokenizer = nltk.WordPunctTokenizer()\n",
        "lemmatizer = nltk.WordNetLemmatizer()\n",
        "\n",
        "def tokenize_pipeline(sentence):\n",
        "    sentence = sentence.lower()\n",
        "    tokens = tokenizer.tokenize(sentence)\n",
        "    return [lemmatizer.lemmatize(token) for token in tokens]\n",
        "    \n",
        "def tokenize_sentence(example):\n",
        "  return {\"en_tokens\": tokenize_pipeline(example[\"translation\"][\"en\"]), \"de_tokens\": tokenize_pipeline(unidecode(example[\"translation\"][\"de\"]))}"
      ]
    },
    {
      "cell_type": "code",
      "execution_count": null,
      "id": "fe107507",
      "metadata": {
        "execution": {
          "iopub.execute_input": "2022-11-26T21:17:39.747488Z",
          "iopub.status.busy": "2022-11-26T21:17:39.747232Z",
          "iopub.status.idle": "2022-11-26T21:22:19.685702Z",
          "shell.execute_reply": "2022-11-26T21:22:19.684703Z"
        },
        "id": "fe107507",
        "outputId": "61689320-c7c3-4f52-8a9a-4817380ea8c0",
        "papermill": {
          "duration": 279.95563,
          "end_time": "2022-11-26T21:22:19.688195",
          "exception": false,
          "start_time": "2022-11-26T21:17:39.732565",
          "status": "completed"
        },
        "tags": [],
        "colab": {
          "referenced_widgets": [
            "f414f2e76afd412db4ff927ba9654726",
            "baa923c0f4db4d10b0ad6c27d52ad9c1",
            "b2f15d70693d4a78b1dbfef1e60ff679"
          ]
        }
      },
      "outputs": [
        {
          "data": {
            "application/vnd.jupyter.widget-view+json": {
              "model_id": "f414f2e76afd412db4ff927ba9654726",
              "version_major": 2,
              "version_minor": 0
            },
            "text/plain": [
              "  0%|          | 0/500000 [00:00<?, ?ex/s]"
            ]
          },
          "metadata": {},
          "output_type": "display_data"
        },
        {
          "data": {
            "application/vnd.jupyter.widget-view+json": {
              "model_id": "baa923c0f4db4d10b0ad6c27d52ad9c1",
              "version_major": 2,
              "version_minor": 0
            },
            "text/plain": [
              "  0%|          | 0/3000 [00:00<?, ?ex/s]"
            ]
          },
          "metadata": {},
          "output_type": "display_data"
        },
        {
          "data": {
            "application/vnd.jupyter.widget-view+json": {
              "model_id": "b2f15d70693d4a78b1dbfef1e60ff679",
              "version_major": 2,
              "version_minor": 0
            },
            "text/plain": [
              "  0%|          | 0/3003 [00:00<?, ?ex/s]"
            ]
          },
          "metadata": {},
          "output_type": "display_data"
        }
      ],
      "source": [
        "wmt14 = wmt14.map(tokenize_sentence)"
      ]
    },
    {
      "cell_type": "markdown",
      "source": [
        "Filter dataset by sequence length:"
      ],
      "metadata": {
        "id": "pih38iuUC2Zl"
      },
      "id": "pih38iuUC2Zl"
    },
    {
      "cell_type": "code",
      "execution_count": null,
      "id": "38bdc19d",
      "metadata": {
        "execution": {
          "iopub.execute_input": "2022-11-26T21:22:19.754119Z",
          "iopub.status.busy": "2022-11-26T21:22:19.753840Z",
          "iopub.status.idle": "2022-11-26T21:22:49.086055Z",
          "shell.execute_reply": "2022-11-26T21:22:49.085153Z"
        },
        "id": "38bdc19d",
        "outputId": "bfab327e-4cf8-4f84-8b6e-dcbe162af6e9",
        "papermill": {
          "duration": 29.34911,
          "end_time": "2022-11-26T21:22:49.088240",
          "exception": false,
          "start_time": "2022-11-26T21:22:19.739130",
          "status": "completed"
        },
        "tags": [],
        "colab": {
          "referenced_widgets": [
            "2dccbf45005c498db32cf2864fb10961",
            "37dcdd406af14cf3ab1c05ee7d58687f",
            "e8ee3c050479497d8ba27a835df0a1c2"
          ]
        }
      },
      "outputs": [
        {
          "data": {
            "application/vnd.jupyter.widget-view+json": {
              "model_id": "2dccbf45005c498db32cf2864fb10961",
              "version_major": 2,
              "version_minor": 0
            },
            "text/plain": [
              "  0%|          | 0/500 [00:00<?, ?ba/s]"
            ]
          },
          "metadata": {},
          "output_type": "display_data"
        },
        {
          "data": {
            "application/vnd.jupyter.widget-view+json": {
              "model_id": "37dcdd406af14cf3ab1c05ee7d58687f",
              "version_major": 2,
              "version_minor": 0
            },
            "text/plain": [
              "  0%|          | 0/3 [00:00<?, ?ba/s]"
            ]
          },
          "metadata": {},
          "output_type": "display_data"
        },
        {
          "data": {
            "application/vnd.jupyter.widget-view+json": {
              "model_id": "e8ee3c050479497d8ba27a835df0a1c2",
              "version_major": 2,
              "version_minor": 0
            },
            "text/plain": [
              "  0%|          | 0/4 [00:00<?, ?ba/s]"
            ]
          },
          "metadata": {},
          "output_type": "display_data"
        }
      ],
      "source": [
        "wmt14 = wmt14.filter(lambda example: len(example['de_tokens']) <= 254 and len(example[\"en_tokens\"]) <= 254)"
      ]
    },
    {
      "cell_type": "code",
      "execution_count": null,
      "id": "afafe619",
      "metadata": {
        "execution": {
          "iopub.execute_input": "2022-11-26T21:22:49.121646Z",
          "iopub.status.busy": "2022-11-26T21:22:49.121347Z",
          "iopub.status.idle": "2022-11-26T21:22:49.127601Z",
          "shell.execute_reply": "2022-11-26T21:22:49.126675Z"
        },
        "id": "afafe619",
        "outputId": "84e2bbe4-0296-42f4-95dd-119748fd1854",
        "papermill": {
          "duration": 0.023517,
          "end_time": "2022-11-26T21:22:49.129654",
          "exception": false,
          "start_time": "2022-11-26T21:22:49.106137",
          "status": "completed"
        },
        "tags": []
      },
      "outputs": [
        {
          "data": {
            "text/plain": [
              "DatasetDict({\n",
              "    train: Dataset({\n",
              "        features: ['translation', 'en_tokens', 'de_tokens'],\n",
              "        num_rows: 499997\n",
              "    })\n",
              "    validation: Dataset({\n",
              "        features: ['translation', 'en_tokens', 'de_tokens'],\n",
              "        num_rows: 3000\n",
              "    })\n",
              "    test: Dataset({\n",
              "        features: ['translation', 'en_tokens', 'de_tokens'],\n",
              "        num_rows: 3003\n",
              "    })\n",
              "})"
            ]
          },
          "execution_count": 17,
          "metadata": {},
          "output_type": "execute_result"
        }
      ],
      "source": [
        "wmt14"
      ]
    },
    {
      "cell_type": "code",
      "execution_count": null,
      "id": "c3a76c5f",
      "metadata": {
        "execution": {
          "iopub.execute_input": "2022-11-26T21:22:49.161503Z",
          "iopub.status.busy": "2022-11-26T21:22:49.159997Z",
          "iopub.status.idle": "2022-11-26T21:23:26.342706Z",
          "shell.execute_reply": "2022-11-26T21:23:26.341687Z"
        },
        "id": "c3a76c5f",
        "outputId": "e642be78-dc0c-4386-e84a-b50a8e08c35a",
        "papermill": {
          "duration": 37.200575,
          "end_time": "2022-11-26T21:23:26.344975",
          "exception": false,
          "start_time": "2022-11-26T21:22:49.144400",
          "status": "completed"
        },
        "tags": [],
        "colab": {
          "referenced_widgets": [
            "0251a668caa843b18f78f295526fd8c8",
            "31bc01c6a7be42cb98915305b7828b2f",
            "a1b699613d914ddb99f26dd47c681fe9"
          ]
        }
      },
      "outputs": [
        {
          "data": {
            "application/vnd.jupyter.widget-view+json": {
              "model_id": "0251a668caa843b18f78f295526fd8c8",
              "version_major": 2,
              "version_minor": 0
            },
            "text/plain": [
              "Flattening the indices:   0%|          | 0/500 [00:00<?, ?ba/s]"
            ]
          },
          "metadata": {},
          "output_type": "display_data"
        },
        {
          "data": {
            "application/vnd.jupyter.widget-view+json": {
              "model_id": "31bc01c6a7be42cb98915305b7828b2f",
              "version_major": 2,
              "version_minor": 0
            },
            "text/plain": [
              "Flattening the indices:   0%|          | 0/3 [00:00<?, ?ba/s]"
            ]
          },
          "metadata": {},
          "output_type": "display_data"
        },
        {
          "data": {
            "application/vnd.jupyter.widget-view+json": {
              "model_id": "a1b699613d914ddb99f26dd47c681fe9",
              "version_major": 2,
              "version_minor": 0
            },
            "text/plain": [
              "Flattening the indices:   0%|          | 0/4 [00:00<?, ?ba/s]"
            ]
          },
          "metadata": {},
          "output_type": "display_data"
        }
      ],
      "source": [
        "wmt14.save_to_disk(os.path.join(path_to_dataset_dir, \"wmt14_500k\"))"
      ]
    },
    {
      "cell_type": "code",
      "source": [
        "# wmt14 = load_from_disk(os.path.join(path_to_dataset_dir, \"wmt14_500k\"))"
      ],
      "metadata": {
        "id": "WUpvlAXagMnH"
      },
      "id": "WUpvlAXagMnH",
      "execution_count": 10,
      "outputs": []
    },
    {
      "cell_type": "markdown",
      "source": [
        "Build the vocabulary:"
      ],
      "metadata": {
        "id": "-GORp2fWDcnw"
      },
      "id": "-GORp2fWDcnw"
    },
    {
      "cell_type": "code",
      "execution_count": 11,
      "id": "ad26cd12",
      "metadata": {
        "execution": {
          "iopub.execute_input": "2022-11-26T21:23:26.377846Z",
          "iopub.status.busy": "2022-11-26T21:23:26.377534Z",
          "iopub.status.idle": "2022-11-26T21:23:26.385841Z",
          "shell.execute_reply": "2022-11-26T21:23:26.384710Z"
        },
        "id": "ad26cd12",
        "papermill": {
          "duration": 0.026916,
          "end_time": "2022-11-26T21:23:26.388389",
          "exception": false,
          "start_time": "2022-11-26T21:23:26.361473",
          "status": "completed"
        },
        "tags": []
      },
      "outputs": [],
      "source": [
        "PAD_token = 0\n",
        "BOS_token = 1\n",
        "EOS_token = 2\n",
        "UNK_token = 3\n",
        "\n",
        "class Dictionary:\n",
        "    def __init__(self, lang, freq_threshold=5):\n",
        "        self.lang = lang\n",
        "        self.freq_threshold = freq_threshold\n",
        "        self.word2index = {\"<PAD>\": 0, \"<BOS>\": 1, \"<EOS>\": 2, \"<UNK>\": 3}\n",
        "        self.word2count = {}\n",
        "        self.index2word = {0: \"<PAD>\", 1: \"<BOS>\", 2: \"<EOS>\", 3: \"<UNK>\"}\n",
        "        self.n_words = 4\n",
        "\n",
        "    def add_sentence(self, sentence):\n",
        "        for word in sentence:\n",
        "            self.add_word(word)\n",
        "\n",
        "    def add_word(self, word):\n",
        "        if word not in self.word2count:\n",
        "            self.word2count[word] = 1\n",
        "        else:\n",
        "            self.word2count[word] += 1\n",
        "        \n",
        "        if self.word2count[word] == self.freq_threshold:\n",
        "            self.word2index[word] = self.n_words\n",
        "            self.index2word[self.n_words] = word\n",
        "            self.n_words += 1\n",
        "    \n",
        "    def __len__(self):\n",
        "      return self.n_words"
      ]
    },
    {
      "cell_type": "code",
      "execution_count": null,
      "id": "8fb45de7",
      "metadata": {
        "execution": {
          "iopub.execute_input": "2022-11-26T21:23:26.427628Z",
          "iopub.status.busy": "2022-11-26T21:23:26.426051Z",
          "iopub.status.idle": "2022-11-26T21:25:03.369577Z",
          "shell.execute_reply": "2022-11-26T21:25:03.368585Z"
        },
        "id": "8fb45de7",
        "outputId": "68181493-fa66-41f6-fefd-2fc97efd255d",
        "papermill": {
          "duration": 96.967941,
          "end_time": "2022-11-26T21:25:03.373360",
          "exception": false,
          "start_time": "2022-11-26T21:23:26.405419",
          "status": "completed"
        },
        "tags": [],
        "colab": {
          "referenced_widgets": [
            "e027771827b747f39ec594ced306314f"
          ]
        }
      },
      "outputs": [
        {
          "data": {
            "application/vnd.jupyter.widget-view+json": {
              "model_id": "e027771827b747f39ec594ced306314f",
              "version_major": 2,
              "version_minor": 0
            },
            "text/plain": [
              "  0%|          | 0/499997 [00:00<?, ?ex/s]"
            ]
          },
          "metadata": {},
          "output_type": "display_data"
        },
        {
          "name": "stdout",
          "output_type": "stream",
          "text": [
            "Num of words in EN dict: 15546\n",
            "Num of words in DE dict: 20217\n"
          ]
        }
      ],
      "source": [
        "en_dictionary = Dictionary(\"en\", freq_threshold=10)\n",
        "de_dictionary = Dictionary(\"de\", freq_threshold=20)\n",
        "\n",
        "def create_dicts(example):\n",
        "  en_dictionary.add_sentence(example[\"en_tokens\"])\n",
        "  de_dictionary.add_sentence(example[\"de_tokens\"])\n",
        "\n",
        "wmt14[\"train\"].map(create_dicts)\n",
        "\n",
        "print(f\"Num of words in EN dict: {len(en_dictionary)}\")\n",
        "print(f\"Num of words in DE dict: {len(de_dictionary)}\")"
      ]
    },
    {
      "cell_type": "code",
      "execution_count": 12,
      "id": "17ad3168",
      "metadata": {
        "execution": {
          "iopub.execute_input": "2022-11-26T21:25:03.407823Z",
          "iopub.status.busy": "2022-11-26T21:25:03.406979Z",
          "iopub.status.idle": "2022-11-26T21:25:03.412847Z",
          "shell.execute_reply": "2022-11-26T21:25:03.411972Z"
        },
        "id": "17ad3168",
        "papermill": {
          "duration": 0.024365,
          "end_time": "2022-11-26T21:25:03.414756",
          "exception": false,
          "start_time": "2022-11-26T21:25:03.390391",
          "status": "completed"
        },
        "tags": []
      },
      "outputs": [],
      "source": [
        "def save_object(obj, filename):\n",
        "    with open(filename, \"wb\") as outp:  \n",
        "        pickle.dump(obj, outp)\n",
        "\n",
        "def read_object(filename):\n",
        "  with open(filename, \"rb\") as inp:\n",
        "    return pickle.load(inp)"
      ]
    },
    {
      "cell_type": "code",
      "execution_count": null,
      "id": "33aa701e",
      "metadata": {
        "execution": {
          "iopub.execute_input": "2022-11-26T21:25:03.449377Z",
          "iopub.status.busy": "2022-11-26T21:25:03.447753Z",
          "iopub.status.idle": "2022-11-26T21:25:03.543230Z",
          "shell.execute_reply": "2022-11-26T21:25:03.542179Z"
        },
        "id": "33aa701e",
        "papermill": {
          "duration": 0.114843,
          "end_time": "2022-11-26T21:25:03.545576",
          "exception": false,
          "start_time": "2022-11-26T21:25:03.430733",
          "status": "completed"
        },
        "tags": []
      },
      "outputs": [],
      "source": [
        "save_object(en_dictionary, os.path.join(path_to_dataset_dir, \"en_dictionary.pkl\"))\n",
        "save_object(de_dictionary, os.path.join(path_to_dataset_dir, \"de_dictionary.pkl\"))"
      ]
    },
    {
      "cell_type": "code",
      "execution_count": 14,
      "id": "17fa31f6",
      "metadata": {
        "execution": {
          "iopub.execute_input": "2022-11-26T21:25:03.577966Z",
          "iopub.status.busy": "2022-11-26T21:25:03.577638Z",
          "iopub.status.idle": "2022-11-26T21:25:03.582019Z",
          "shell.execute_reply": "2022-11-26T21:25:03.580866Z"
        },
        "id": "17fa31f6",
        "papermill": {
          "duration": 0.023322,
          "end_time": "2022-11-26T21:25:03.584417",
          "exception": false,
          "start_time": "2022-11-26T21:25:03.561095",
          "status": "completed"
        },
        "tags": []
      },
      "outputs": [],
      "source": [
        "# en_dictionary = read_object(\"/content/en_dictionary.pkl\")\n",
        "# de_dictionary = read_object(\"/content/de_dictionary.pkl\")\n",
        "\n",
        "# print(f\"Num of words in EN dict: {len(en_dictionary)}\")\n",
        "# print(f\"Num of words in DE dict: {len(de_dictionary)}\")"
      ]
    },
    {
      "cell_type": "markdown",
      "source": [
        "Create Dataset:"
      ],
      "metadata": {
        "id": "d2e1qYeYDqYm"
      },
      "id": "d2e1qYeYDqYm"
    },
    {
      "cell_type": "code",
      "execution_count": 15,
      "id": "49c54362",
      "metadata": {
        "execution": {
          "iopub.execute_input": "2022-11-26T21:25:03.617055Z",
          "iopub.status.busy": "2022-11-26T21:25:03.616738Z",
          "iopub.status.idle": "2022-11-26T21:25:03.627947Z",
          "shell.execute_reply": "2022-11-26T21:25:03.627103Z"
        },
        "id": "49c54362",
        "papermill": {
          "duration": 0.029931,
          "end_time": "2022-11-26T21:25:03.629880",
          "exception": false,
          "start_time": "2022-11-26T21:25:03.599949",
          "status": "completed"
        },
        "tags": []
      },
      "outputs": [],
      "source": [
        "class TranslationDataset(torch.utils.data.Dataset):\n",
        "    def __init__(self, tokenizer, dataset, en_dictionary=en_dictionary, de_dictionary=de_dictionary):\n",
        "        self.tokenizer = tokenizer\n",
        "        self.en_dictionary = en_dictionary\n",
        "        self.de_dictionary = de_dictionary\n",
        "        \n",
        "        def convert_words_to_ids(example):\n",
        "            return {\"en_ids\": [self.en_dictionary.word2index[token] if token in self.en_dictionary.word2index else UNK_token for token in example[\"en_tokens\"]],\n",
        "                    \"de_ids\": [self.de_dictionary.word2index[token] if token in self.de_dictionary.word2index else UNK_token for token in example[\"de_tokens\"]]}\n",
        "        \n",
        "        dataset = dataset.map(convert_words_to_ids)\n",
        "        self.dataset = dataset\n",
        "    \n",
        "    def __len__(self):\n",
        "        return len(self.dataset)\n",
        "    \n",
        "    def __getitem__(self, index):\n",
        "        example = self.dataset[index]\n",
        "        return torch.tensor(example[\"de_ids\"]), torch.tensor(example[\"en_ids\"])"
      ]
    },
    {
      "cell_type": "code",
      "execution_count": 18,
      "id": "96bfb5ee",
      "metadata": {
        "execution": {
          "iopub.execute_input": "2022-11-26T21:25:03.662131Z",
          "iopub.status.busy": "2022-11-26T21:25:03.661817Z",
          "iopub.status.idle": "2022-11-26T21:27:00.217462Z",
          "shell.execute_reply": "2022-11-26T21:27:00.216619Z"
        },
        "id": "96bfb5ee",
        "outputId": "98b0bcc2-2875-4834-faae-657ab8745f2b",
        "papermill": {
          "duration": 116.574505,
          "end_time": "2022-11-26T21:27:00.220174",
          "exception": false,
          "start_time": "2022-11-26T21:25:03.645669",
          "status": "completed"
        },
        "tags": [],
        "colab": {
          "referenced_widgets": [
            "543237cf5ee74ef99d1306c602d2642c",
            "664c5a34d42f4113ba0a21d15f8a8fe7",
            "ef6fc0d1d49944e38f35fbe063eedaba",
            "a9ab605b8a114dd3a9ccc76df1e5916b",
            "958f1b33005d4fff9a9cdd6484a521e3",
            "18b353817fbc4f1892ebefb317fefd25",
            "89cde984e25547878c29a4dfab1073be",
            "f4ec99c999404c4b994843e8f999145c",
            "7c421fdf50564f7fafa57c4fdcc63e66",
            "9f0f411c064e40119fc6a701d1160cd9",
            "b2a19c3cd34e432795e3785c6da45932",
            "db687f5be3c54a06b38516c9ae3d49e9",
            "162793c8a373435aac657055814d78ff",
            "5dae1d6ef74d4a72a233b4c41ecca029",
            "b46dc733ec7c408f998ca9a31685b303",
            "df66c53dacc142beb6f4e38895cfc337",
            "0125f179b4964aac95ae83958af01319",
            "ad1c4aedfb6948eda5068036098b1c25",
            "1343338ab06f4ae08a80bff9f34c8db2",
            "9f71c903fbe74a03b41d6b4b7acc2ede",
            "ed67b91553204c9682137ac4e81282fb",
            "76bbae9358724bc4a9bf25b33792b8a5",
            "f5c50f2861ea4763840766e1c4a53249",
            "f4c2ea6ad26442bab770436ecb99ae46",
            "613f6a39a73e4ebbbfe3d072b265b528",
            "92f0de7bfe604777a63b66d2be2b66d1",
            "6a35764a37e44109868a9135e23dcc0e",
            "3de48455e6624463b99a9e8c6ef40ef5",
            "6ce22abc0ff040dabaacb2a2dc2e32da",
            "f87804abfae34ebf8321ab0c5fd4abf7",
            "50c98ce986f543979c7a0f9315ccd9b5",
            "b660ca111907434ba9696d93d0a3311b",
            "a54b6fbf673f46c090c72714d33518b5"
          ],
          "base_uri": "https://localhost:8080/",
          "height": 113
        }
      },
      "outputs": [
        {
          "output_type": "display_data",
          "data": {
            "text/plain": [
              "  0%|          | 0/499997 [00:00<?, ?ex/s]"
            ],
            "application/vnd.jupyter.widget-view+json": {
              "version_major": 2,
              "version_minor": 0,
              "model_id": "543237cf5ee74ef99d1306c602d2642c"
            }
          },
          "metadata": {}
        },
        {
          "output_type": "display_data",
          "data": {
            "text/plain": [
              "  0%|          | 0/3000 [00:00<?, ?ex/s]"
            ],
            "application/vnd.jupyter.widget-view+json": {
              "version_major": 2,
              "version_minor": 0,
              "model_id": "db687f5be3c54a06b38516c9ae3d49e9"
            }
          },
          "metadata": {}
        },
        {
          "output_type": "display_data",
          "data": {
            "text/plain": [
              "  0%|          | 0/3003 [00:00<?, ?ex/s]"
            ],
            "application/vnd.jupyter.widget-view+json": {
              "version_major": 2,
              "version_minor": 0,
              "model_id": "f5c50f2861ea4763840766e1c4a53249"
            }
          },
          "metadata": {}
        }
      ],
      "source": [
        "train_dataset = TranslationDataset(tokenize_pipeline, wmt14[\"train\"])\n",
        "valid_dataset = TranslationDataset(tokenize_pipeline, wmt14[\"validation\"])\n",
        "test_dataset = TranslationDataset(tokenize_pipeline, wmt14[\"test\"])"
      ]
    },
    {
      "cell_type": "markdown",
      "source": [
        "Define DataLoaders:"
      ],
      "metadata": {
        "id": "b1gqlwpIdsd-"
      },
      "id": "b1gqlwpIdsd-"
    },
    {
      "cell_type": "code",
      "execution_count": 19,
      "id": "696ea4af",
      "metadata": {
        "execution": {
          "iopub.execute_input": "2022-11-26T21:27:00.270270Z",
          "iopub.status.busy": "2022-11-26T21:27:00.269766Z",
          "iopub.status.idle": "2022-11-26T21:27:00.280933Z",
          "shell.execute_reply": "2022-11-26T21:27:00.279880Z"
        },
        "id": "696ea4af",
        "papermill": {
          "duration": 0.038896,
          "end_time": "2022-11-26T21:27:00.283462",
          "exception": false,
          "start_time": "2022-11-26T21:27:00.244566",
          "status": "completed"
        },
        "tags": []
      },
      "outputs": [],
      "source": [
        "def collate_fn(batch):\n",
        "  # sort the batch w.r.t source length in decreasing order\n",
        "  data_batch = sorted(batch, key=lambda x: - len(x[0]))\n",
        "\n",
        "  de_batch, en_batch = [], []\n",
        "\n",
        "  for (de_item, en_item) in data_batch:\n",
        "    de_batch.append(torch.cat([torch.tensor([BOS_token]), de_item, torch.tensor([EOS_token])], dim=0))\n",
        "    en_batch.append(torch.cat([torch.tensor([BOS_token]), en_item, torch.tensor([EOS_token])], dim=0))\n",
        "  \n",
        "  de_batch = torch.nn.utils.rnn.pad_sequence(de_batch, padding_value=PAD_token, batch_first=True)\n",
        "  en_batch = torch.nn.utils.rnn.pad_sequence(en_batch, padding_value=PAD_token, batch_first=True)\n",
        "  \n",
        "  return de_batch, en_batch"
      ]
    },
    {
      "cell_type": "code",
      "execution_count": 20,
      "id": "0bad224e",
      "metadata": {
        "execution": {
          "iopub.execute_input": "2022-11-26T21:27:00.331701Z",
          "iopub.status.busy": "2022-11-26T21:27:00.331375Z",
          "iopub.status.idle": "2022-11-26T21:27:00.341463Z",
          "shell.execute_reply": "2022-11-26T21:27:00.340695Z"
        },
        "id": "0bad224e",
        "papermill": {
          "duration": 0.037975,
          "end_time": "2022-11-26T21:27:00.345297",
          "exception": false,
          "start_time": "2022-11-26T21:27:00.307322",
          "status": "completed"
        },
        "tags": []
      },
      "outputs": [],
      "source": [
        "batch_size = 16\n",
        "\n",
        "train_dataloader = torch.utils.data.DataLoader(train_dataset, batch_size=batch_size, shuffle=True, collate_fn=collate_fn)\n",
        "valid_dataloader = torch.utils.data.DataLoader(valid_dataset, batch_size=batch_size, shuffle=False, collate_fn=collate_fn)\n",
        "test_dataloader = torch.utils.data.DataLoader(test_dataset, batch_size=batch_size, shuffle=False, collate_fn=collate_fn)"
      ]
    },
    {
      "cell_type": "code",
      "execution_count": null,
      "id": "7ceec282",
      "metadata": {
        "execution": {
          "iopub.execute_input": "2022-11-26T21:27:00.392968Z",
          "iopub.status.busy": "2022-11-26T21:27:00.392653Z",
          "iopub.status.idle": "2022-11-26T21:27:00.396298Z",
          "shell.execute_reply": "2022-11-26T21:27:00.395481Z"
        },
        "id": "7ceec282",
        "papermill": {
          "duration": 0.031695,
          "end_time": "2022-11-26T21:27:00.400278",
          "exception": false,
          "start_time": "2022-11-26T21:27:00.368583",
          "status": "completed"
        },
        "tags": []
      },
      "outputs": [],
      "source": [
        "# src, trg = next(iter(train_dataloader))\n",
        "# src.shape, trg.shape"
      ]
    },
    {
      "cell_type": "markdown",
      "id": "6c183fbc",
      "metadata": {
        "id": "6c183fbc",
        "papermill": {
          "duration": 0.023181,
          "end_time": "2022-11-26T21:27:00.446283",
          "exception": false,
          "start_time": "2022-11-26T21:27:00.423102",
          "status": "completed"
        },
        "tags": []
      },
      "source": [
        "# Model"
      ]
    },
    {
      "cell_type": "code",
      "execution_count": 21,
      "id": "f1cfed8a",
      "metadata": {
        "execution": {
          "iopub.execute_input": "2022-11-26T21:27:00.496356Z",
          "iopub.status.busy": "2022-11-26T21:27:00.495992Z",
          "iopub.status.idle": "2022-11-26T21:27:00.510243Z",
          "shell.execute_reply": "2022-11-26T21:27:00.509056Z"
        },
        "id": "f1cfed8a",
        "papermill": {
          "duration": 0.042092,
          "end_time": "2022-11-26T21:27:00.512899",
          "exception": false,
          "start_time": "2022-11-26T21:27:00.470807",
          "status": "completed"
        },
        "tags": []
      },
      "outputs": [],
      "source": [
        "def attention(K, V, Q, num_heads, mask=None):\n",
        "    batch_size, hidden_dim = Q.size(0), Q.size(2)\n",
        "    key_len, value_len, query_len = K.size(1), V.size(1), Q.size(1) \n",
        "    \n",
        "    K = K.reshape(batch_size, key_len, num_heads, -1) # (batch_size, key_len, num_heads, head_dim)\n",
        "    V = V.reshape(batch_size, value_len, num_heads, -1) # (batch_size, value_len, num_heads, head_dim)\n",
        "    Q = Q.reshape(batch_size, query_len, num_heads, -1) # (batch_size, query_len, num_heads, head_dim)\n",
        "    \n",
        "    energy = torch.einsum('bqhd,bkhd->bhqk', [Q, K]) # (batch_size, num_heads, query_len, key_len)\n",
        "    \n",
        "    if mask is not None:\n",
        "      energy = energy.masked_fill(mask == 0, -torch.inf)\n",
        "\n",
        "    attention = torch.softmax(energy / math.sqrt(hidden_dim // num_heads), dim=3)\n",
        "    result_headed = torch.einsum('bhql,blhd->bqhd', [attention, V]) # (batch_size, query_len, num_heads, head_dim)\n",
        "    return result_headed.reshape(batch_size, query_len, hidden_dim)\n",
        "\n",
        "\n",
        "class AttentionModule(torch.nn.Module):\n",
        "    def __init__(self, hidden_dim: int, num_heads: int):\n",
        "        super().__init__()\n",
        "\n",
        "        self.hidden_dim = hidden_dim\n",
        "        self.num_heads = num_heads\n",
        "\n",
        "        self.k_linear = torch.nn.Linear(hidden_dim, hidden_dim)\n",
        "        self.v_linear = torch.nn.Linear(hidden_dim, hidden_dim)\n",
        "        self.q_linear = torch.nn.Linear(hidden_dim, hidden_dim)\n",
        "\n",
        "        self.out_linear = torch.nn.Linear(hidden_dim, hidden_dim)\n",
        "    \n",
        "    def forward(self, keys, values, query, mask):\n",
        "        K = self.k_linear(keys)\n",
        "        V = self.v_linear(values)\n",
        "        Q = self.q_linear(query)\n",
        "        attention_output = attention(K, V, Q, self.num_heads, mask)\n",
        "        return self.out_linear(attention_output) + query\n",
        "\n",
        "\n",
        "class MLP(torch.nn.Module):\n",
        "    def __init__(self, hidden_dim: int):\n",
        "        super().__init__()\n",
        "        \n",
        "        self.linear_0 = torch.nn.Linear(hidden_dim, 4 * hidden_dim)\n",
        "        self.linear_1 = torch.nn.Linear(4 * hidden_dim, hidden_dim)\n",
        "    \n",
        "    def forward(self, hidden_state):\n",
        "        return self.linear_1(torch.relu(self.linear_0(hidden_state))) + hidden_state"
      ]
    },
    {
      "cell_type": "code",
      "execution_count": 22,
      "id": "e2ac9d75",
      "metadata": {
        "execution": {
          "iopub.execute_input": "2022-11-26T21:27:00.581748Z",
          "iopub.status.busy": "2022-11-26T21:27:00.580860Z",
          "iopub.status.idle": "2022-11-26T21:27:00.588315Z",
          "shell.execute_reply": "2022-11-26T21:27:00.587313Z"
        },
        "id": "e2ac9d75",
        "papermill": {
          "duration": 0.027758,
          "end_time": "2022-11-26T21:27:00.590660",
          "exception": false,
          "start_time": "2022-11-26T21:27:00.562902",
          "status": "completed"
        },
        "tags": []
      },
      "outputs": [],
      "source": [
        "class EncoderTransformerLayer(torch.nn.Module):\n",
        "    def __init__(self, hidden_dim: int, num_heads: int, dropout: float = 0.1):\n",
        "        super().__init__()\n",
        "        \n",
        "        self.attention = AttentionModule(hidden_dim, num_heads)\n",
        "        self.mlp = MLP(hidden_dim)\n",
        "\n",
        "        self.norm = torch.nn.LayerNorm(hidden_dim)\n",
        "        self.dropout = torch.nn.Dropout(dropout)\n",
        "        \n",
        "    def forward(self, value, key, query, mask):\n",
        "        attn_output = self.dropout(self.norm(self.attention(value, key, query, mask)))\n",
        "        mlp_output = self.dropout(self.norm(self.mlp(attn_output)))\n",
        "        return mlp_output"
      ]
    },
    {
      "cell_type": "code",
      "execution_count": 23,
      "id": "f4cb6c6e",
      "metadata": {
        "execution": {
          "iopub.execute_input": "2022-11-26T21:27:00.624817Z",
          "iopub.status.busy": "2022-11-26T21:27:00.624509Z",
          "iopub.status.idle": "2022-11-26T21:27:00.633623Z",
          "shell.execute_reply": "2022-11-26T21:27:00.632706Z"
        },
        "id": "f4cb6c6e",
        "papermill": {
          "duration": 0.028542,
          "end_time": "2022-11-26T21:27:00.635749",
          "exception": false,
          "start_time": "2022-11-26T21:27:00.607207",
          "status": "completed"
        },
        "tags": []
      },
      "outputs": [],
      "source": [
        "class Encoder(torch.nn.Module):\n",
        "    def __init__(self, de_dictionary_size: int, hidden_dim: int, num_layers: int, num_heads: int, dropout: float = 0.1, max_seq_len: int = 256):\n",
        "        super().__init__()\n",
        "        \n",
        "        self.word_embedding = torch.nn.Embedding(de_dictionary_size, hidden_dim)\n",
        "        self.pos_embedding = torch.nn.Embedding(max_seq_len, hidden_dim)\n",
        "        self.layers = torch.nn.ModuleList(\n",
        "            [\n",
        "                EncoderTransformerLayer(\n",
        "                    hidden_dim,\n",
        "                    num_heads,\n",
        "                    dropout\n",
        "                )\n",
        "                for _ in range(num_layers)\n",
        "            ]\n",
        "        )\n",
        "\n",
        "        self.dropout = torch.nn.Dropout(dropout)\n",
        "        \n",
        "    def forward(self, inputs, mask):\n",
        "        batch_size, seq_len = inputs.shape\n",
        "        positions = torch.arange(0, seq_len).expand(batch_size, seq_len).to(device)\n",
        "        hidden_dim = self.dropout(self.word_embedding(inputs) + self.pos_embedding(positions))\n",
        "\n",
        "        for layer in self.layers:\n",
        "          hidden_dim = layer(hidden_dim, hidden_dim, hidden_dim, mask)\n",
        "        \n",
        "        return hidden_dim"
      ]
    },
    {
      "cell_type": "code",
      "execution_count": 24,
      "id": "e5b315c4",
      "metadata": {
        "execution": {
          "iopub.execute_input": "2022-11-26T21:27:00.702703Z",
          "iopub.status.busy": "2022-11-26T21:27:00.701813Z",
          "iopub.status.idle": "2022-11-26T21:27:00.709908Z",
          "shell.execute_reply": "2022-11-26T21:27:00.708905Z"
        },
        "id": "e5b315c4",
        "papermill": {
          "duration": 0.027597,
          "end_time": "2022-11-26T21:27:00.712338",
          "exception": false,
          "start_time": "2022-11-26T21:27:00.684741",
          "status": "completed"
        },
        "tags": []
      },
      "outputs": [],
      "source": [
        "class DecoderTransformerLayer(torch.nn.Module):\n",
        "    def __init__(self, hidden_dim: int, num_heads: int, dropout: float = 0.1):\n",
        "        super().__init__() \n",
        "\n",
        "        self.self_attention = AttentionModule(hidden_dim, num_heads) # аттенш на то, что происходит в переводе\n",
        "        self.out_attention = EncoderTransformerLayer(hidden_dim, num_heads) # аттенш на то, что происходит в оригинале\n",
        "\n",
        "        self.norm = torch.nn.LayerNorm(hidden_dim)\n",
        "        self.dropout = torch.nn.Dropout(dropout)\n",
        "    \n",
        "    def forward(self, hidden_state, encoder_layer_output, src_mask, trg_mask):\n",
        "        self_attn_output = self.dropout(self.norm(self.self_attention(hidden_state, hidden_state, hidden_state, trg_mask)))\n",
        "        output = self.out_attention(encoder_layer_output, encoder_layer_output, self_attn_output, src_mask)\n",
        "        return output"
      ]
    },
    {
      "cell_type": "code",
      "execution_count": 25,
      "id": "7ffd576d",
      "metadata": {
        "execution": {
          "iopub.execute_input": "2022-11-26T21:27:00.746668Z",
          "iopub.status.busy": "2022-11-26T21:27:00.745819Z",
          "iopub.status.idle": "2022-11-26T21:27:00.754754Z",
          "shell.execute_reply": "2022-11-26T21:27:00.753906Z"
        },
        "id": "7ffd576d",
        "papermill": {
          "duration": 0.028564,
          "end_time": "2022-11-26T21:27:00.756696",
          "exception": false,
          "start_time": "2022-11-26T21:27:00.728132",
          "status": "completed"
        },
        "tags": []
      },
      "outputs": [],
      "source": [
        "class Decoder(torch.nn.Module):\n",
        "    def __init__(self, en_dictionary_size: int, hidden_dim: int, num_layers: int, num_heads: int, dropout: float = 0.1, max_seq_len: int = 256):\n",
        "        super().__init__()\n",
        "        \n",
        "        self.word_embedding = torch.nn.Embedding(en_dictionary_size, hidden_dim)\n",
        "        self.pos_embedding = torch.nn.Embedding(max_seq_len, hidden_dim)\n",
        "        self.layers = torch.nn.ModuleList(\n",
        "            [\n",
        "                DecoderTransformerLayer(hidden_dim, num_heads)\n",
        "                for _ in range(num_layers)\n",
        "            ]\n",
        "        )\n",
        "        \n",
        "        self.lm_head = torch.nn.Linear(hidden_dim, en_dictionary_size)\n",
        "        self.dropout = torch.nn.Dropout(dropout)\n",
        "        \n",
        "    def forward(self, inputs, encoder_output, src_mask, trg_mask):\n",
        "        batch_size, seq_len = inputs.shape\n",
        "        positions = torch.arange(0, seq_len).expand(batch_size, seq_len).to(device)\n",
        "        inputs = self.dropout(self.word_embedding(inputs) + self.pos_embedding(positions))\n",
        "        \n",
        "        for layer in self.layers:\n",
        "          inputs = layer(inputs, encoder_output, src_mask, trg_mask)\n",
        "        \n",
        "        return self.lm_head(inputs)"
      ]
    },
    {
      "cell_type": "code",
      "execution_count": 26,
      "id": "d30518db",
      "metadata": {
        "execution": {
          "iopub.execute_input": "2022-11-26T21:27:00.793589Z",
          "iopub.status.busy": "2022-11-26T21:27:00.792728Z",
          "iopub.status.idle": "2022-11-26T21:27:00.803209Z",
          "shell.execute_reply": "2022-11-26T21:27:00.802264Z"
        },
        "id": "d30518db",
        "papermill": {
          "duration": 0.031397,
          "end_time": "2022-11-26T21:27:00.805430",
          "exception": false,
          "start_time": "2022-11-26T21:27:00.774033",
          "status": "completed"
        },
        "tags": []
      },
      "outputs": [],
      "source": [
        "class TranslationModel(torch.nn.Module):\n",
        "    def __init__(self, de_dictionary_size: int, en_dictionary_size: int, hidden_dim: int = 512, num_layers: int = 6, num_heads: int = 8, dropout: float = 0.1):\n",
        "        super().__init__()\n",
        "        \n",
        "        self.encoder = Encoder(de_dictionary_size, hidden_dim, num_layers, num_heads, dropout)\n",
        "        self.decoder = Decoder(en_dictionary_size, hidden_dim, num_layers, num_heads, dropout)\n",
        "        \n",
        "    def make_src_mask(self, src):\n",
        "      src_pad_mask = (src != PAD_token).unsqueeze(1).unsqueeze(2)\n",
        "      return src_pad_mask\n",
        "\n",
        "    def make_trg_mask(self, trg):\n",
        "      trg_pad_mask = (trg != PAD_token).unsqueeze(1).unsqueeze(2)\n",
        "\n",
        "      batch_size, trg_len = trg.shape\n",
        "      trg_sub_mask = torch.tril(torch.ones((trg_len, trg_len))).expand(\n",
        "            batch_size, 1, trg_len, trg_len\n",
        "        ).bool().to(device)\n",
        "      trg_mask = trg_pad_mask & trg_sub_mask\n",
        "      return trg_mask\n",
        "    \n",
        "    def forward(self, inputs):\n",
        "        src_ids, trg_ids = inputs\n",
        "        src_mask = self.make_src_mask(src_ids).to(device)\n",
        "        trg_mask = self.make_trg_mask(trg_ids).to(device)\n",
        "        encoder_output = self.encoder(src_ids, src_mask)\n",
        "        decoder_output = self.decoder(trg_ids, encoder_output, src_mask, trg_mask)\n",
        "        return decoder_output"
      ]
    },
    {
      "cell_type": "code",
      "execution_count": null,
      "id": "4708a653",
      "metadata": {
        "execution": {
          "iopub.execute_input": "2022-11-26T21:27:00.841957Z",
          "iopub.status.busy": "2022-11-26T21:27:00.841136Z",
          "iopub.status.idle": "2022-11-26T21:27:00.846078Z",
          "shell.execute_reply": "2022-11-26T21:27:00.845121Z"
        },
        "id": "4708a653",
        "papermill": {
          "duration": 0.025169,
          "end_time": "2022-11-26T21:27:00.848236",
          "exception": false,
          "start_time": "2022-11-26T21:27:00.823067",
          "status": "completed"
        },
        "tags": []
      },
      "outputs": [],
      "source": [
        "# src = torch.tensor([[1, 5, 6, 4, 3, 8, 5, 2, 0]], device=device)\n",
        "# trg = torch.tensor([[1]], device=device)\n",
        "# print(f\"src shape: {src.shape}, trg shape: {trg.shape}\")\n",
        "\n",
        "# src_vocab_size = 20\n",
        "# trg_vocab_size = 20\n",
        "\n",
        "# toy_model = TranslationModel(src_vocab_size, trg_vocab_size).to(device)\n",
        "# out = toy_model((src, trg))\n",
        "# print(out.shape)"
      ]
    },
    {
      "cell_type": "markdown",
      "id": "7375bb54",
      "metadata": {
        "id": "7375bb54",
        "papermill": {
          "duration": 0.017237,
          "end_time": "2022-11-26T21:27:00.883000",
          "exception": false,
          "start_time": "2022-11-26T21:27:00.865763",
          "status": "completed"
        },
        "tags": []
      },
      "source": [
        "# Training"
      ]
    },
    {
      "cell_type": "code",
      "execution_count": 27,
      "id": "59ad65c6",
      "metadata": {
        "execution": {
          "iopub.execute_input": "2022-11-26T21:27:00.919722Z",
          "iopub.status.busy": "2022-11-26T21:27:00.917993Z",
          "iopub.status.idle": "2022-11-26T21:27:10.113309Z",
          "shell.execute_reply": "2022-11-26T21:27:10.111689Z"
        },
        "id": "59ad65c6",
        "outputId": "728f5006-572d-4e37-ac97-274e0e737afa",
        "papermill": {
          "duration": 9.215875,
          "end_time": "2022-11-26T21:27:10.116102",
          "exception": false,
          "start_time": "2022-11-26T21:27:00.900227",
          "status": "completed"
        },
        "tags": [],
        "colab": {
          "base_uri": "https://localhost:8080/"
        }
      },
      "outputs": [
        {
          "output_type": "stream",
          "name": "stdout",
          "text": [
            "Model has 70674106 trainable parameters\n"
          ]
        }
      ],
      "source": [
        "model = TranslationModel(len(de_dictionary), len(en_dictionary)).to(device)\n",
        "num_parameters = sum(p.numel() for p in model.parameters() if p.requires_grad)\n",
        "print(f\"Model has {num_parameters} trainable parameters\")\n",
        "\n",
        "optimizer = torch.optim.Adam(model.parameters(), lr=1e-4)\n",
        "criterion = torch.nn.CrossEntropyLoss(ignore_index=PAD_token)"
      ]
    },
    {
      "cell_type": "code",
      "execution_count": 30,
      "id": "2acdcf1f",
      "metadata": {
        "execution": {
          "iopub.execute_input": "2022-11-26T21:27:10.150285Z",
          "iopub.status.busy": "2022-11-26T21:27:10.149467Z",
          "iopub.status.idle": "2022-11-26T21:27:10.161025Z",
          "shell.execute_reply": "2022-11-26T21:27:10.160028Z"
        },
        "id": "2acdcf1f",
        "papermill": {
          "duration": 0.030111,
          "end_time": "2022-11-26T21:27:10.162994",
          "exception": false,
          "start_time": "2022-11-26T21:27:10.132883",
          "status": "completed"
        },
        "tags": []
      },
      "outputs": [],
      "source": [
        "def train_epoch(model, optimizer, criterion, dataloader):\n",
        "  model.train()\n",
        "\n",
        "  running_loss = 0.0\n",
        "\n",
        "  for src, trg in dataloader:\n",
        "\n",
        "    src = src.to(device)\n",
        "    trg = trg.to(device) # (batch_size, seq_len)\n",
        "\n",
        "    optimizer.zero_grad()\n",
        "\n",
        "    output = model((src, trg[:, :-1])) # (batch_size, seq_len, en_vocab_len)\n",
        "\n",
        "    trg = trg[:, 1:].contiguous().view(-1) # (batch_size * (seq_len - 1))\n",
        "    en_vocab_len = output.size(-1)\n",
        "    output = output.view(-1, en_vocab_len) # (batch_size * (seq_len - 1), en_vocab_len)\n",
        "    \n",
        "    loss = criterion(output, trg)\n",
        "    loss.backward()\n",
        "    optimizer.step()\n",
        "\n",
        "    running_loss += loss.item()\n",
        "  \n",
        "  epoch_loss = running_loss / len(dataloader.dataset)\n",
        "\n",
        "  return epoch_loss\n",
        "\n",
        "def eval_epoch(model, criterion, dataloader):\n",
        "  model.eval()\n",
        "\n",
        "  running_loss = 0.0\n",
        "\n",
        "  with torch.no_grad():\n",
        "    for src, trg in dataloader:\n",
        "      src = src.to(device)\n",
        "      trg = trg.to(device)\n",
        "\n",
        "      output = model((src, trg[:, :-1]))\n",
        "\n",
        "      trg = trg[:, 1:].contiguous().view(-1) \n",
        "      en_vocab_len = output.size(-1)\n",
        "      output = output.view(-1, en_vocab_len) \n",
        "      \n",
        "      loss = criterion(output, trg)\n",
        "\n",
        "      running_loss += loss.item()\n",
        "  \n",
        "  epoch_loss = running_loss / len(dataloader.dataset)\n",
        "\n",
        "  return epoch_loss"
      ]
    },
    {
      "cell_type": "code",
      "source": [
        "model_checkpoint = \"model.pt\""
      ],
      "metadata": {
        "id": "YXp7rcWbg0x7"
      },
      "id": "YXp7rcWbg0x7",
      "execution_count": 28,
      "outputs": []
    },
    {
      "cell_type": "code",
      "execution_count": null,
      "id": "b63198fe",
      "metadata": {
        "execution": {
          "iopub.execute_input": "2022-11-26T21:27:10.196091Z",
          "iopub.status.busy": "2022-11-26T21:27:10.195193Z",
          "iopub.status.idle": "2022-11-27T07:24:02.567869Z",
          "shell.execute_reply": "2022-11-27T07:24:02.566577Z"
        },
        "id": "b63198fe",
        "outputId": "a1bfd230-8056-4baf-f650-5e94b2c3e2a1",
        "papermill": {
          "duration": 35812.405683,
          "end_time": "2022-11-27T07:24:02.584161",
          "exception": false,
          "start_time": "2022-11-26T21:27:10.178478",
          "status": "completed"
        },
        "tags": []
      },
      "outputs": [
        {
          "name": "stdout",
          "output_type": "stream",
          "text": [
            "Model is saved to /kaggle/working/model.pt\n",
            "Epoch #1:\n",
            "Training Loss: 0.23895120679426546\n",
            "Evaluation Loss: 0.2453935843706131\n",
            "\n",
            "Model is saved to /kaggle/working/model.pt\n",
            "Epoch #2:\n",
            "Training Loss: 0.17692864883786136\n",
            "Evaluation Loss: 0.2179473903576533\n",
            "\n",
            "Model is saved to /kaggle/working/model.pt\n",
            "Epoch #3:\n",
            "Training Loss: 0.15656631406147575\n",
            "Evaluation Loss: 0.20528336278597514\n",
            "\n",
            "Model is saved to /kaggle/working/model.pt\n",
            "Epoch #4:\n",
            "Training Loss: 0.14537321306412085\n",
            "Evaluation Loss: 0.19557876733938853\n",
            "\n",
            "Model is saved to /kaggle/working/model.pt\n",
            "Epoch #5:\n",
            "Training Loss: 0.1379451284970821\n",
            "Evaluation Loss: 0.19105472354094188\n",
            "\n",
            "Model is saved to /kaggle/working/model.pt\n",
            "Epoch #6:\n",
            "Training Loss: 0.13259402738617818\n",
            "Evaluation Loss: 0.1870951584180196\n",
            "\n",
            "Model is saved to /kaggle/working/model.pt\n",
            "Epoch #7:\n",
            "Training Loss: 0.1284219163497316\n",
            "Evaluation Loss: 0.18381192831198376\n",
            "\n",
            "Model is saved to /kaggle/working/model.pt\n",
            "Epoch #8:\n",
            "Training Loss: 0.12504319114016071\n",
            "Evaluation Loss: 0.18152732650438944\n",
            "\n",
            "Model is saved to /kaggle/working/model.pt\n",
            "Epoch #9:\n",
            "Training Loss: 0.12222682016006571\n",
            "Evaluation Loss: 0.1802691096464793\n",
            "\n",
            "Model is saved to /kaggle/working/model.pt\n",
            "Epoch #10:\n",
            "Training Loss: 0.11988865958998367\n",
            "Evaluation Loss: 0.17831926759084066\n",
            "\n"
          ]
        }
      ],
      "source": [
        "num_epochs = 10\n",
        "\n",
        "best_valid_loss = torch.inf\n",
        "\n",
        "for epoch in range(num_epochs):\n",
        "  train_loss = train_epoch(model, optimizer, criterion, train_dataloader)\n",
        "\n",
        "  valid_loss = eval_epoch(model, criterion, valid_dataloader)\n",
        "\n",
        "  if valid_loss < best_valid_loss:\n",
        "    best_valid_loss = valid_loss\n",
        "    torch.save(model.state_dict(), os.path.join(path_to_dataset_dir, model_checkpoint))\n",
        "    print(f\"Model is saved to {os.path.join(path_to_dataset_dir, model_checkpoint)}\")\n",
        "\n",
        "  print(f\"Epoch #{epoch + 1}:\")\n",
        "  print(f\"Training Loss: {train_loss}\")\n",
        "  print(f\"Evaluation Loss: {valid_loss}\")\n",
        "  print()"
      ]
    },
    {
      "cell_type": "code",
      "execution_count": 31,
      "id": "f1b46fda",
      "metadata": {
        "execution": {
          "iopub.execute_input": "2022-11-27T07:24:02.651773Z",
          "iopub.status.busy": "2022-11-27T07:24:02.651125Z",
          "iopub.status.idle": "2022-11-27T07:24:08.790022Z",
          "shell.execute_reply": "2022-11-27T07:24:08.789012Z"
        },
        "id": "f1b46fda",
        "papermill": {
          "duration": 6.158956,
          "end_time": "2022-11-27T07:24:08.792077",
          "exception": false,
          "start_time": "2022-11-27T07:24:02.633121",
          "status": "completed"
        },
        "tags": [],
        "outputId": "aa888c34-6e00-4016-e21b-a5b78da68308",
        "colab": {
          "base_uri": "https://localhost:8080/"
        }
      },
      "outputs": [
        {
          "output_type": "stream",
          "name": "stdout",
          "text": [
            "Test Loss: 0.19202897697935253\n"
          ]
        }
      ],
      "source": [
        "model.load_state_dict(torch.load(os.path.join(path_to_dataset_dir, model_checkpoint)))\n",
        "test_loss = eval_epoch(model, criterion, test_dataloader)\n",
        "print(f\"Test Loss: {test_loss}\")"
      ]
    },
    {
      "cell_type": "markdown",
      "id": "245a573c",
      "metadata": {
        "id": "245a573c",
        "papermill": {
          "duration": 0.016475,
          "end_time": "2022-11-27T07:24:02.617372",
          "exception": false,
          "start_time": "2022-11-27T07:24:02.600897",
          "status": "completed"
        },
        "tags": []
      },
      "source": [
        "# Inference"
      ]
    },
    {
      "cell_type": "code",
      "execution_count": 32,
      "id": "6b4395ee",
      "metadata": {
        "execution": {
          "iopub.execute_input": "2022-11-27T07:24:08.829750Z",
          "iopub.status.busy": "2022-11-27T07:24:08.828065Z",
          "iopub.status.idle": "2022-11-27T07:24:08.837722Z",
          "shell.execute_reply": "2022-11-27T07:24:08.836754Z"
        },
        "id": "6b4395ee",
        "papermill": {
          "duration": 0.030117,
          "end_time": "2022-11-27T07:24:08.839740",
          "exception": false,
          "start_time": "2022-11-27T07:24:08.809623",
          "status": "completed"
        },
        "tags": []
      },
      "outputs": [],
      "source": [
        "def decode(src, model, max_len=100):\n",
        "  model.eval()\n",
        "  src = tokenize_pipeline(unidecode(src))\n",
        "  src = [\"<BOS>\"] + src + [\"<EOS>\"]\n",
        "  src_tensor = torch.tensor([de_dictionary.word2index[token] if token in de_dictionary.word2index else UNK_token for token in src]).unsqueeze(0).to(device)\n",
        "  src_mask = model.make_src_mask(src_tensor).to(device)\n",
        "\n",
        "  with torch.no_grad():\n",
        "    encoded_src = model.encoder(src_tensor, src_mask)\n",
        "      \n",
        "  trg_ids = [1] # BOS token\n",
        "  trg_tokens = []\n",
        "  while len(trg_tokens) <= max_len:\n",
        "    trg_tensor = torch.tensor(trg_ids).unsqueeze(0).to(device)\n",
        "    trg_mask = model.make_trg_mask(trg_tensor)\n",
        "        \n",
        "    with torch.no_grad():\n",
        "      predictions = model.decoder(trg_tensor, encoded_src, src_mask, trg_mask)\n",
        "      last_pred_id = predictions[:, -1, :].argmax(-1).item()\n",
        "        \n",
        "      if last_pred_id == EOS_token:\n",
        "        break\n",
        "        \n",
        "      trg_ids.append(last_pred_id)\n",
        "      trg_tokens.append(en_dictionary.index2word[last_pred_id])\n",
        "      \n",
        "  return \" \".join(trg_tokens)"
      ]
    },
    {
      "cell_type": "code",
      "execution_count": null,
      "id": "fa2b45aa",
      "metadata": {
        "execution": {
          "iopub.execute_input": "2022-11-27T07:24:08.952933Z",
          "iopub.status.busy": "2022-11-27T07:24:08.952683Z",
          "iopub.status.idle": "2022-11-27T07:24:09.048524Z",
          "shell.execute_reply": "2022-11-27T07:24:09.047502Z"
        },
        "id": "fa2b45aa",
        "papermill": {
          "duration": 0.115469,
          "end_time": "2022-11-27T07:24:09.051389",
          "exception": false,
          "start_time": "2022-11-27T07:24:08.935920",
          "status": "completed"
        },
        "tags": [],
        "outputId": "3b4d8836-ec19-4fb4-873b-4652f0f1fcd5",
        "colab": {
          "base_uri": "https://localhost:8080/"
        }
      },
      "outputs": [
        {
          "output_type": "stream",
          "name": "stdout",
          "text": [
            "good morning !\n"
          ]
        }
      ],
      "source": [
        "src = \"Guten Morgen!\"\n",
        "trg = decode(src, model)\n",
        "print(trg)"
      ]
    },
    {
      "cell_type": "markdown",
      "id": "ca90d5f3",
      "metadata": {
        "id": "ca90d5f3",
        "papermill": {
          "duration": 0.016166,
          "end_time": "2022-11-27T07:24:09.158034",
          "exception": false,
          "start_time": "2022-11-27T07:24:09.141868",
          "status": "completed"
        },
        "tags": []
      },
      "source": [
        "# Result\n",
        "BLEU score on test set:"
      ]
    },
    {
      "cell_type": "code",
      "execution_count": null,
      "id": "311fab45",
      "metadata": {
        "execution": {
          "iopub.execute_input": "2022-11-27T07:24:09.192867Z",
          "iopub.status.busy": "2022-11-27T07:24:09.191937Z",
          "iopub.status.idle": "2022-11-27T07:34:34.213040Z",
          "shell.execute_reply": "2022-11-27T07:34:34.212058Z"
        },
        "id": "311fab45",
        "papermill": {
          "duration": 625.057947,
          "end_time": "2022-11-27T07:34:34.232830",
          "exception": false,
          "start_time": "2022-11-27T07:24:09.174883",
          "status": "completed"
        },
        "tags": [],
        "outputId": "5c77b0ea-1dac-4868-ab60-b90d8645f440",
        "colab": {
          "base_uri": "https://localhost:8080/"
        }
      },
      "outputs": [
        {
          "output_type": "stream",
          "name": "stdout",
          "text": [
            "{'bleu': 0.08580581099395075, 'precisions': [0.3068673290473407, 0.12017219061380535, 0.05509228604535673, 0.026682184116679834], 'brevity_penalty': 1.0, 'length_ratio': 1.466634284326471, 'translation_length': 102660, 'reference_length': 69997}\n"
          ]
        }
      ],
      "source": [
        "references = [[\" \".join(reference)] for reference in wmt14[\"test\"][\"en_tokens\"]]\n",
        "predictions = [decode(example[\"de\"], model) for example in wmt14[\"test\"][\"translation\"]]\n",
        "test_bleu = bleu.compute(predictions=predictions, references=references)\n",
        "print(test_bleu)"
      ]
    },
    {
      "cell_type": "code",
      "execution_count": 36,
      "id": "ec423574",
      "metadata": {
        "execution": {
          "iopub.execute_input": "2022-11-27T07:34:34.267450Z",
          "iopub.status.busy": "2022-11-27T07:34:34.267156Z",
          "iopub.status.idle": "2022-11-27T07:34:35.478741Z",
          "shell.execute_reply": "2022-11-27T07:34:35.477690Z"
        },
        "id": "ec423574",
        "papermill": {
          "duration": 1.231646,
          "end_time": "2022-11-27T07:34:35.481136",
          "exception": false,
          "start_time": "2022-11-27T07:34:34.249490",
          "status": "completed"
        },
        "tags": [],
        "colab": {
          "base_uri": "https://localhost:8080/"
        },
        "outputId": "0207d11c-3fb1-4e95-aefb-32fed34e2257"
      },
      "outputs": [
        {
          "output_type": "stream",
          "name": "stdout",
          "text": [
            "Input:         : Gutach: Noch mehr Sicherheit für Fußgänger\n",
            "Prediction     : <UNK> : more safety for pedestrian\n",
            "Ground truth   : Gutach: Increased safety for pedestrians\n",
            "\n",
            "Input:         : Sie stehen keine 100 Meter voneinander entfernt: Am Dienstag ist in Gutach die neue B 33-Fußgängerampel am Dorfparkplatz in Betrieb genommen worden - in Sichtweite der älteren Rathausampel.\n",
            "Prediction     : they are not 100 metre apart : on tuesday , the new 1 33 - <UNK> <UNK> wa taken on the front floor - wa <UNK> in the old <UNK> .\n",
            "Ground truth   : They are not even 100 metres apart: On Tuesday, the new B 33 pedestrian lights in Dorfparkplatz in Gutach became operational - within view of the existing Town Hall traffic lights.\n",
            "\n",
            "Input:         : Zwei Anlagen so nah beieinander: Absicht oder Schildbürgerstreich?\n",
            "Prediction     : two plant are so close to the same level : intention or <UNK> ?\n",
            "Ground truth   : Two sets of lights so close to one another: intentional or just a silly error?\n",
            "\n",
            "Input:         : Diese Frage hat Gutachs Bürgermeister gestern klar beantwortet.\n",
            "Prediction     : yesterday , mr mayor gave this question very clearly .\n",
            "Ground truth   : Yesterday, Gutacht's Mayor gave a clear answer to this question.\n",
            "\n",
            "Input:         : \"Die Rathausampel ist damals installiert worden, weil diese den Schulweg sichert\", erläuterte Eckert gestern.\n",
            "Prediction     : ' the <UNK> wa <UNK> at that time because they are guaranteed the <UNK> ' s <UNK> yesterday .\n",
            "Ground truth   : \"At the time, the Town Hall traffic lights were installed because this was a school route,\" explained Eckert yesterday.\n",
            "\n",
            "Input:         : Die Kluser-Ampel sichere sowohl Radfahrer als auch Busfahrgäste und die Bergle-Bewohner.\n",
            "Prediction     : the <UNK> - <UNK> guarantee both the <UNK> and the <UNK> and the <UNK> .\n",
            "Ground truth   : The Kluser lights protect cyclists, as well as those travelling by bus and the residents of Bergle.\n",
            "\n",
            "Input:         : Die gestern offiziell in Betrieb genommene Anlage sei wichtig für den Kreuzungsbereich Sulzbachweg/Kirchstraße.\n",
            "Prediction     : yesterday ' s officially - funded installation is important for the <UNK> <UNK> / <UNK> .\n",
            "Ground truth   : The system, which officially became operational yesterday, is of importance to the Sulzbachweg/Kirchstrasse junction.\n",
            "\n",
            "Input:         : Wir haben das Museum, zwei Kirchen, Kurpark, die Bushaltestelle, einen Arzt und eine Bank sowie den Verkehrsfluss aus dem Wohngebiet ›Grub‹.\n",
            "Prediction     : we have the transitional , two church , the <UNK> , the <UNK> , a doctor and a bank and the <UNK> from the <UNK> <UNK> <UNK> <UNK> <UNK>\n",
            "Ground truth   : We have the museum, two churches, the spa gardens, the bus stop, a doctor's practice and a bank, not to mention the traffic from the 'Grub' residential area.\n",
            "\n",
            "Input:         : \"Bei dem hohen Verkehrs- und Fußgängeraufkommen musste zu deren Sicherheit eine weitere Ampel her\", so Eckert.\n",
            "Prediction     : \" in the high - speed transport and safety system , a further safety risk should be added to them \".\n",
            "Ground truth   : \"At times of high road and pedestrian traffic, an additional set of lights were required to ensure safety,\" said Eckert.\n",
            "\n",
            "Input:         : Dies bestätigt auch Peter Arnold vom Landratsamt Offenburg.\n",
            "Prediction     : that also confirms mr <UNK> <UNK> from the <UNK> <UNK> .\n",
            "Ground truth   : This was also confirmed by Peter Arnold from the Offenburg District Office.\n",
            "\n"
          ]
        }
      ],
      "source": [
        "for example in wmt14[\"test\"][\"translation\"][:10]:\n",
        "  input = example[\"de\"]\n",
        "  prediction = decode(input, model)\n",
        "  ground_truth = example[\"en\"]\n",
        "\n",
        "  print(f'{\"Input:\":15s}: {input}')\n",
        "  print(f'{\"Prediction\":15s}: {prediction}')\n",
        "  print(f'{\"Ground truth\":15s}: {ground_truth}')\n",
        "  print()"
      ]
    }
  ],
  "metadata": {
    "kernelspec": {
      "display_name": "Python 3",
      "language": "python",
      "name": "python3"
    },
    "language_info": {
      "codemirror_mode": {
        "name": "ipython",
        "version": 3
      },
      "file_extension": ".py",
      "mimetype": "text/x-python",
      "name": "python",
      "nbconvert_exporter": "python",
      "pygments_lexer": "ipython3",
      "version": "3.7.12"
    },
    "papermill": {
      "default_parameters": {},
      "duration": 37338.086083,
      "end_time": "2022-11-27T07:34:38.928295",
      "environment_variables": {},
      "exception": null,
      "input_path": "__notebook__.ipynb",
      "output_path": "__notebook__.ipynb",
      "parameters": {},
      "start_time": "2022-11-26T21:12:20.842212",
      "version": "2.3.4"
    },
    "widgets": {
      "application/vnd.jupyter.widget-state+json": {
        "cf8066e3ce924703afbd052e237fe4cf": {
          "model_module": "@jupyter-widgets/controls",
          "model_name": "HBoxModel",
          "model_module_version": "1.5.0",
          "state": {
            "_dom_classes": [],
            "_model_module": "@jupyter-widgets/controls",
            "_model_module_version": "1.5.0",
            "_model_name": "HBoxModel",
            "_view_count": null,
            "_view_module": "@jupyter-widgets/controls",
            "_view_module_version": "1.5.0",
            "_view_name": "HBoxView",
            "box_style": "",
            "children": [
              "IPY_MODEL_7e6248fe542a4b8b881c9f89b5f091e8",
              "IPY_MODEL_3049694bfd5748a9abf53c4047e0ecfc",
              "IPY_MODEL_df67d3813abb413faf639f5e643f3647"
            ],
            "layout": "IPY_MODEL_d4e50ab6f8be40409d500de23f118a3d"
          }
        },
        "7e6248fe542a4b8b881c9f89b5f091e8": {
          "model_module": "@jupyter-widgets/controls",
          "model_name": "HTMLModel",
          "model_module_version": "1.5.0",
          "state": {
            "_dom_classes": [],
            "_model_module": "@jupyter-widgets/controls",
            "_model_module_version": "1.5.0",
            "_model_name": "HTMLModel",
            "_view_count": null,
            "_view_module": "@jupyter-widgets/controls",
            "_view_module_version": "1.5.0",
            "_view_name": "HTMLView",
            "description": "",
            "description_tooltip": null,
            "layout": "IPY_MODEL_9054859c0eca45c58ee50f80c26747c1",
            "placeholder": "​",
            "style": "IPY_MODEL_eae9af9bc6c246d59ddf1f909d97008d",
            "value": "Downloading builder script: 100%"
          }
        },
        "3049694bfd5748a9abf53c4047e0ecfc": {
          "model_module": "@jupyter-widgets/controls",
          "model_name": "FloatProgressModel",
          "model_module_version": "1.5.0",
          "state": {
            "_dom_classes": [],
            "_model_module": "@jupyter-widgets/controls",
            "_model_module_version": "1.5.0",
            "_model_name": "FloatProgressModel",
            "_view_count": null,
            "_view_module": "@jupyter-widgets/controls",
            "_view_module_version": "1.5.0",
            "_view_name": "ProgressView",
            "bar_style": "success",
            "description": "",
            "description_tooltip": null,
            "layout": "IPY_MODEL_0faea972e00d4001a01bdfbe980e8875",
            "max": 5937,
            "min": 0,
            "orientation": "horizontal",
            "style": "IPY_MODEL_3f1aeec21d994ebc962eb7ca6b383047",
            "value": 5937
          }
        },
        "df67d3813abb413faf639f5e643f3647": {
          "model_module": "@jupyter-widgets/controls",
          "model_name": "HTMLModel",
          "model_module_version": "1.5.0",
          "state": {
            "_dom_classes": [],
            "_model_module": "@jupyter-widgets/controls",
            "_model_module_version": "1.5.0",
            "_model_name": "HTMLModel",
            "_view_count": null,
            "_view_module": "@jupyter-widgets/controls",
            "_view_module_version": "1.5.0",
            "_view_name": "HTMLView",
            "description": "",
            "description_tooltip": null,
            "layout": "IPY_MODEL_bbecd1516cde474ea8b677158f855d7d",
            "placeholder": "​",
            "style": "IPY_MODEL_e3c617831dea44ec934088e0ead321b8",
            "value": " 5.94k/5.94k [00:00&lt;00:00, 177kB/s]"
          }
        },
        "d4e50ab6f8be40409d500de23f118a3d": {
          "model_module": "@jupyter-widgets/base",
          "model_name": "LayoutModel",
          "model_module_version": "1.2.0",
          "state": {
            "_model_module": "@jupyter-widgets/base",
            "_model_module_version": "1.2.0",
            "_model_name": "LayoutModel",
            "_view_count": null,
            "_view_module": "@jupyter-widgets/base",
            "_view_module_version": "1.2.0",
            "_view_name": "LayoutView",
            "align_content": null,
            "align_items": null,
            "align_self": null,
            "border": null,
            "bottom": null,
            "display": null,
            "flex": null,
            "flex_flow": null,
            "grid_area": null,
            "grid_auto_columns": null,
            "grid_auto_flow": null,
            "grid_auto_rows": null,
            "grid_column": null,
            "grid_gap": null,
            "grid_row": null,
            "grid_template_areas": null,
            "grid_template_columns": null,
            "grid_template_rows": null,
            "height": null,
            "justify_content": null,
            "justify_items": null,
            "left": null,
            "margin": null,
            "max_height": null,
            "max_width": null,
            "min_height": null,
            "min_width": null,
            "object_fit": null,
            "object_position": null,
            "order": null,
            "overflow": null,
            "overflow_x": null,
            "overflow_y": null,
            "padding": null,
            "right": null,
            "top": null,
            "visibility": null,
            "width": null
          }
        },
        "9054859c0eca45c58ee50f80c26747c1": {
          "model_module": "@jupyter-widgets/base",
          "model_name": "LayoutModel",
          "model_module_version": "1.2.0",
          "state": {
            "_model_module": "@jupyter-widgets/base",
            "_model_module_version": "1.2.0",
            "_model_name": "LayoutModel",
            "_view_count": null,
            "_view_module": "@jupyter-widgets/base",
            "_view_module_version": "1.2.0",
            "_view_name": "LayoutView",
            "align_content": null,
            "align_items": null,
            "align_self": null,
            "border": null,
            "bottom": null,
            "display": null,
            "flex": null,
            "flex_flow": null,
            "grid_area": null,
            "grid_auto_columns": null,
            "grid_auto_flow": null,
            "grid_auto_rows": null,
            "grid_column": null,
            "grid_gap": null,
            "grid_row": null,
            "grid_template_areas": null,
            "grid_template_columns": null,
            "grid_template_rows": null,
            "height": null,
            "justify_content": null,
            "justify_items": null,
            "left": null,
            "margin": null,
            "max_height": null,
            "max_width": null,
            "min_height": null,
            "min_width": null,
            "object_fit": null,
            "object_position": null,
            "order": null,
            "overflow": null,
            "overflow_x": null,
            "overflow_y": null,
            "padding": null,
            "right": null,
            "top": null,
            "visibility": null,
            "width": null
          }
        },
        "eae9af9bc6c246d59ddf1f909d97008d": {
          "model_module": "@jupyter-widgets/controls",
          "model_name": "DescriptionStyleModel",
          "model_module_version": "1.5.0",
          "state": {
            "_model_module": "@jupyter-widgets/controls",
            "_model_module_version": "1.5.0",
            "_model_name": "DescriptionStyleModel",
            "_view_count": null,
            "_view_module": "@jupyter-widgets/base",
            "_view_module_version": "1.2.0",
            "_view_name": "StyleView",
            "description_width": ""
          }
        },
        "0faea972e00d4001a01bdfbe980e8875": {
          "model_module": "@jupyter-widgets/base",
          "model_name": "LayoutModel",
          "model_module_version": "1.2.0",
          "state": {
            "_model_module": "@jupyter-widgets/base",
            "_model_module_version": "1.2.0",
            "_model_name": "LayoutModel",
            "_view_count": null,
            "_view_module": "@jupyter-widgets/base",
            "_view_module_version": "1.2.0",
            "_view_name": "LayoutView",
            "align_content": null,
            "align_items": null,
            "align_self": null,
            "border": null,
            "bottom": null,
            "display": null,
            "flex": null,
            "flex_flow": null,
            "grid_area": null,
            "grid_auto_columns": null,
            "grid_auto_flow": null,
            "grid_auto_rows": null,
            "grid_column": null,
            "grid_gap": null,
            "grid_row": null,
            "grid_template_areas": null,
            "grid_template_columns": null,
            "grid_template_rows": null,
            "height": null,
            "justify_content": null,
            "justify_items": null,
            "left": null,
            "margin": null,
            "max_height": null,
            "max_width": null,
            "min_height": null,
            "min_width": null,
            "object_fit": null,
            "object_position": null,
            "order": null,
            "overflow": null,
            "overflow_x": null,
            "overflow_y": null,
            "padding": null,
            "right": null,
            "top": null,
            "visibility": null,
            "width": null
          }
        },
        "3f1aeec21d994ebc962eb7ca6b383047": {
          "model_module": "@jupyter-widgets/controls",
          "model_name": "ProgressStyleModel",
          "model_module_version": "1.5.0",
          "state": {
            "_model_module": "@jupyter-widgets/controls",
            "_model_module_version": "1.5.0",
            "_model_name": "ProgressStyleModel",
            "_view_count": null,
            "_view_module": "@jupyter-widgets/base",
            "_view_module_version": "1.2.0",
            "_view_name": "StyleView",
            "bar_color": null,
            "description_width": ""
          }
        },
        "bbecd1516cde474ea8b677158f855d7d": {
          "model_module": "@jupyter-widgets/base",
          "model_name": "LayoutModel",
          "model_module_version": "1.2.0",
          "state": {
            "_model_module": "@jupyter-widgets/base",
            "_model_module_version": "1.2.0",
            "_model_name": "LayoutModel",
            "_view_count": null,
            "_view_module": "@jupyter-widgets/base",
            "_view_module_version": "1.2.0",
            "_view_name": "LayoutView",
            "align_content": null,
            "align_items": null,
            "align_self": null,
            "border": null,
            "bottom": null,
            "display": null,
            "flex": null,
            "flex_flow": null,
            "grid_area": null,
            "grid_auto_columns": null,
            "grid_auto_flow": null,
            "grid_auto_rows": null,
            "grid_column": null,
            "grid_gap": null,
            "grid_row": null,
            "grid_template_areas": null,
            "grid_template_columns": null,
            "grid_template_rows": null,
            "height": null,
            "justify_content": null,
            "justify_items": null,
            "left": null,
            "margin": null,
            "max_height": null,
            "max_width": null,
            "min_height": null,
            "min_width": null,
            "object_fit": null,
            "object_position": null,
            "order": null,
            "overflow": null,
            "overflow_x": null,
            "overflow_y": null,
            "padding": null,
            "right": null,
            "top": null,
            "visibility": null,
            "width": null
          }
        },
        "e3c617831dea44ec934088e0ead321b8": {
          "model_module": "@jupyter-widgets/controls",
          "model_name": "DescriptionStyleModel",
          "model_module_version": "1.5.0",
          "state": {
            "_model_module": "@jupyter-widgets/controls",
            "_model_module_version": "1.5.0",
            "_model_name": "DescriptionStyleModel",
            "_view_count": null,
            "_view_module": "@jupyter-widgets/base",
            "_view_module_version": "1.2.0",
            "_view_name": "StyleView",
            "description_width": ""
          }
        },
        "4cf94a6012bc47aebe8bc33a44e14e39": {
          "model_module": "@jupyter-widgets/controls",
          "model_name": "HBoxModel",
          "model_module_version": "1.5.0",
          "state": {
            "_dom_classes": [],
            "_model_module": "@jupyter-widgets/controls",
            "_model_module_version": "1.5.0",
            "_model_name": "HBoxModel",
            "_view_count": null,
            "_view_module": "@jupyter-widgets/controls",
            "_view_module_version": "1.5.0",
            "_view_name": "HBoxView",
            "box_style": "",
            "children": [
              "IPY_MODEL_08576f4a36ff48e792907d5fbb76d103",
              "IPY_MODEL_6179cee084734d28b651ac943005baa0",
              "IPY_MODEL_621f899f91724d248476662e7a9e9b0d"
            ],
            "layout": "IPY_MODEL_791ab52300bd498593bae85f80021c6d"
          }
        },
        "08576f4a36ff48e792907d5fbb76d103": {
          "model_module": "@jupyter-widgets/controls",
          "model_name": "HTMLModel",
          "model_module_version": "1.5.0",
          "state": {
            "_dom_classes": [],
            "_model_module": "@jupyter-widgets/controls",
            "_model_module_version": "1.5.0",
            "_model_name": "HTMLModel",
            "_view_count": null,
            "_view_module": "@jupyter-widgets/controls",
            "_view_module_version": "1.5.0",
            "_view_name": "HTMLView",
            "description": "",
            "description_tooltip": null,
            "layout": "IPY_MODEL_9d72805208c94a99bb9090242491bab5",
            "placeholder": "​",
            "style": "IPY_MODEL_b4f820b2d04f434495c625d9e53a65d4",
            "value": "Downloading extra modules: "
          }
        },
        "6179cee084734d28b651ac943005baa0": {
          "model_module": "@jupyter-widgets/controls",
          "model_name": "FloatProgressModel",
          "model_module_version": "1.5.0",
          "state": {
            "_dom_classes": [],
            "_model_module": "@jupyter-widgets/controls",
            "_model_module_version": "1.5.0",
            "_model_name": "FloatProgressModel",
            "_view_count": null,
            "_view_module": "@jupyter-widgets/controls",
            "_view_module_version": "1.5.0",
            "_view_name": "ProgressView",
            "bar_style": "success",
            "description": "",
            "description_tooltip": null,
            "layout": "IPY_MODEL_57c27cf325934c4bbc94823d5819a3cf",
            "max": 1554,
            "min": 0,
            "orientation": "horizontal",
            "style": "IPY_MODEL_fc25282222124a15a3ccb6bad794111b",
            "value": 1554
          }
        },
        "621f899f91724d248476662e7a9e9b0d": {
          "model_module": "@jupyter-widgets/controls",
          "model_name": "HTMLModel",
          "model_module_version": "1.5.0",
          "state": {
            "_dom_classes": [],
            "_model_module": "@jupyter-widgets/controls",
            "_model_module_version": "1.5.0",
            "_model_name": "HTMLModel",
            "_view_count": null,
            "_view_module": "@jupyter-widgets/controls",
            "_view_module_version": "1.5.0",
            "_view_name": "HTMLView",
            "description": "",
            "description_tooltip": null,
            "layout": "IPY_MODEL_ef8a0aaf7dfe4212a369fafb8c3899ac",
            "placeholder": "​",
            "style": "IPY_MODEL_42e215011b2a41aa8f5c7450029f27be",
            "value": " 4.07k/? [00:00&lt;00:00, 115kB/s]"
          }
        },
        "791ab52300bd498593bae85f80021c6d": {
          "model_module": "@jupyter-widgets/base",
          "model_name": "LayoutModel",
          "model_module_version": "1.2.0",
          "state": {
            "_model_module": "@jupyter-widgets/base",
            "_model_module_version": "1.2.0",
            "_model_name": "LayoutModel",
            "_view_count": null,
            "_view_module": "@jupyter-widgets/base",
            "_view_module_version": "1.2.0",
            "_view_name": "LayoutView",
            "align_content": null,
            "align_items": null,
            "align_self": null,
            "border": null,
            "bottom": null,
            "display": null,
            "flex": null,
            "flex_flow": null,
            "grid_area": null,
            "grid_auto_columns": null,
            "grid_auto_flow": null,
            "grid_auto_rows": null,
            "grid_column": null,
            "grid_gap": null,
            "grid_row": null,
            "grid_template_areas": null,
            "grid_template_columns": null,
            "grid_template_rows": null,
            "height": null,
            "justify_content": null,
            "justify_items": null,
            "left": null,
            "margin": null,
            "max_height": null,
            "max_width": null,
            "min_height": null,
            "min_width": null,
            "object_fit": null,
            "object_position": null,
            "order": null,
            "overflow": null,
            "overflow_x": null,
            "overflow_y": null,
            "padding": null,
            "right": null,
            "top": null,
            "visibility": null,
            "width": null
          }
        },
        "9d72805208c94a99bb9090242491bab5": {
          "model_module": "@jupyter-widgets/base",
          "model_name": "LayoutModel",
          "model_module_version": "1.2.0",
          "state": {
            "_model_module": "@jupyter-widgets/base",
            "_model_module_version": "1.2.0",
            "_model_name": "LayoutModel",
            "_view_count": null,
            "_view_module": "@jupyter-widgets/base",
            "_view_module_version": "1.2.0",
            "_view_name": "LayoutView",
            "align_content": null,
            "align_items": null,
            "align_self": null,
            "border": null,
            "bottom": null,
            "display": null,
            "flex": null,
            "flex_flow": null,
            "grid_area": null,
            "grid_auto_columns": null,
            "grid_auto_flow": null,
            "grid_auto_rows": null,
            "grid_column": null,
            "grid_gap": null,
            "grid_row": null,
            "grid_template_areas": null,
            "grid_template_columns": null,
            "grid_template_rows": null,
            "height": null,
            "justify_content": null,
            "justify_items": null,
            "left": null,
            "margin": null,
            "max_height": null,
            "max_width": null,
            "min_height": null,
            "min_width": null,
            "object_fit": null,
            "object_position": null,
            "order": null,
            "overflow": null,
            "overflow_x": null,
            "overflow_y": null,
            "padding": null,
            "right": null,
            "top": null,
            "visibility": null,
            "width": null
          }
        },
        "b4f820b2d04f434495c625d9e53a65d4": {
          "model_module": "@jupyter-widgets/controls",
          "model_name": "DescriptionStyleModel",
          "model_module_version": "1.5.0",
          "state": {
            "_model_module": "@jupyter-widgets/controls",
            "_model_module_version": "1.5.0",
            "_model_name": "DescriptionStyleModel",
            "_view_count": null,
            "_view_module": "@jupyter-widgets/base",
            "_view_module_version": "1.2.0",
            "_view_name": "StyleView",
            "description_width": ""
          }
        },
        "57c27cf325934c4bbc94823d5819a3cf": {
          "model_module": "@jupyter-widgets/base",
          "model_name": "LayoutModel",
          "model_module_version": "1.2.0",
          "state": {
            "_model_module": "@jupyter-widgets/base",
            "_model_module_version": "1.2.0",
            "_model_name": "LayoutModel",
            "_view_count": null,
            "_view_module": "@jupyter-widgets/base",
            "_view_module_version": "1.2.0",
            "_view_name": "LayoutView",
            "align_content": null,
            "align_items": null,
            "align_self": null,
            "border": null,
            "bottom": null,
            "display": null,
            "flex": null,
            "flex_flow": null,
            "grid_area": null,
            "grid_auto_columns": null,
            "grid_auto_flow": null,
            "grid_auto_rows": null,
            "grid_column": null,
            "grid_gap": null,
            "grid_row": null,
            "grid_template_areas": null,
            "grid_template_columns": null,
            "grid_template_rows": null,
            "height": null,
            "justify_content": null,
            "justify_items": null,
            "left": null,
            "margin": null,
            "max_height": null,
            "max_width": null,
            "min_height": null,
            "min_width": null,
            "object_fit": null,
            "object_position": null,
            "order": null,
            "overflow": null,
            "overflow_x": null,
            "overflow_y": null,
            "padding": null,
            "right": null,
            "top": null,
            "visibility": null,
            "width": null
          }
        },
        "fc25282222124a15a3ccb6bad794111b": {
          "model_module": "@jupyter-widgets/controls",
          "model_name": "ProgressStyleModel",
          "model_module_version": "1.5.0",
          "state": {
            "_model_module": "@jupyter-widgets/controls",
            "_model_module_version": "1.5.0",
            "_model_name": "ProgressStyleModel",
            "_view_count": null,
            "_view_module": "@jupyter-widgets/base",
            "_view_module_version": "1.2.0",
            "_view_name": "StyleView",
            "bar_color": null,
            "description_width": ""
          }
        },
        "ef8a0aaf7dfe4212a369fafb8c3899ac": {
          "model_module": "@jupyter-widgets/base",
          "model_name": "LayoutModel",
          "model_module_version": "1.2.0",
          "state": {
            "_model_module": "@jupyter-widgets/base",
            "_model_module_version": "1.2.0",
            "_model_name": "LayoutModel",
            "_view_count": null,
            "_view_module": "@jupyter-widgets/base",
            "_view_module_version": "1.2.0",
            "_view_name": "LayoutView",
            "align_content": null,
            "align_items": null,
            "align_self": null,
            "border": null,
            "bottom": null,
            "display": null,
            "flex": null,
            "flex_flow": null,
            "grid_area": null,
            "grid_auto_columns": null,
            "grid_auto_flow": null,
            "grid_auto_rows": null,
            "grid_column": null,
            "grid_gap": null,
            "grid_row": null,
            "grid_template_areas": null,
            "grid_template_columns": null,
            "grid_template_rows": null,
            "height": null,
            "justify_content": null,
            "justify_items": null,
            "left": null,
            "margin": null,
            "max_height": null,
            "max_width": null,
            "min_height": null,
            "min_width": null,
            "object_fit": null,
            "object_position": null,
            "order": null,
            "overflow": null,
            "overflow_x": null,
            "overflow_y": null,
            "padding": null,
            "right": null,
            "top": null,
            "visibility": null,
            "width": null
          }
        },
        "42e215011b2a41aa8f5c7450029f27be": {
          "model_module": "@jupyter-widgets/controls",
          "model_name": "DescriptionStyleModel",
          "model_module_version": "1.5.0",
          "state": {
            "_model_module": "@jupyter-widgets/controls",
            "_model_module_version": "1.5.0",
            "_model_name": "DescriptionStyleModel",
            "_view_count": null,
            "_view_module": "@jupyter-widgets/base",
            "_view_module_version": "1.2.0",
            "_view_name": "StyleView",
            "description_width": ""
          }
        },
        "7203ce88949d4347bfc30f3d9b65003b": {
          "model_module": "@jupyter-widgets/controls",
          "model_name": "HBoxModel",
          "model_module_version": "1.5.0",
          "state": {
            "_dom_classes": [],
            "_model_module": "@jupyter-widgets/controls",
            "_model_module_version": "1.5.0",
            "_model_name": "HBoxModel",
            "_view_count": null,
            "_view_module": "@jupyter-widgets/controls",
            "_view_module_version": "1.5.0",
            "_view_name": "HBoxView",
            "box_style": "",
            "children": [
              "IPY_MODEL_898767e1b5964c678db45a2fdb308d28",
              "IPY_MODEL_2094aea597a3423183e7cca3bdd8a293",
              "IPY_MODEL_0bd22ef38ebd46e2a3b524c536455fb9"
            ],
            "layout": "IPY_MODEL_fe2ccf87ba3a47b89364563b2d32d2b9"
          }
        },
        "898767e1b5964c678db45a2fdb308d28": {
          "model_module": "@jupyter-widgets/controls",
          "model_name": "HTMLModel",
          "model_module_version": "1.5.0",
          "state": {
            "_dom_classes": [],
            "_model_module": "@jupyter-widgets/controls",
            "_model_module_version": "1.5.0",
            "_model_name": "HTMLModel",
            "_view_count": null,
            "_view_module": "@jupyter-widgets/controls",
            "_view_module_version": "1.5.0",
            "_view_name": "HTMLView",
            "description": "",
            "description_tooltip": null,
            "layout": "IPY_MODEL_8e3aeb6a9d714d49b20ebf120bad322b",
            "placeholder": "​",
            "style": "IPY_MODEL_4371a4e8df7949c8acfabc7543625c2a",
            "value": "Downloading extra modules: 100%"
          }
        },
        "2094aea597a3423183e7cca3bdd8a293": {
          "model_module": "@jupyter-widgets/controls",
          "model_name": "FloatProgressModel",
          "model_module_version": "1.5.0",
          "state": {
            "_dom_classes": [],
            "_model_module": "@jupyter-widgets/controls",
            "_model_module_version": "1.5.0",
            "_model_name": "FloatProgressModel",
            "_view_count": null,
            "_view_module": "@jupyter-widgets/controls",
            "_view_module_version": "1.5.0",
            "_view_name": "ProgressView",
            "bar_style": "success",
            "description": "",
            "description_tooltip": null,
            "layout": "IPY_MODEL_05d62a047f68498e9f87630e543e479a",
            "max": 3344,
            "min": 0,
            "orientation": "horizontal",
            "style": "IPY_MODEL_68dc3337dd8349fd9bc88af426c00ca7",
            "value": 3344
          }
        },
        "0bd22ef38ebd46e2a3b524c536455fb9": {
          "model_module": "@jupyter-widgets/controls",
          "model_name": "HTMLModel",
          "model_module_version": "1.5.0",
          "state": {
            "_dom_classes": [],
            "_model_module": "@jupyter-widgets/controls",
            "_model_module_version": "1.5.0",
            "_model_name": "HTMLModel",
            "_view_count": null,
            "_view_module": "@jupyter-widgets/controls",
            "_view_module_version": "1.5.0",
            "_view_name": "HTMLView",
            "description": "",
            "description_tooltip": null,
            "layout": "IPY_MODEL_ba3a863f7e9043f19ed64c264249e337",
            "placeholder": "​",
            "style": "IPY_MODEL_2e13c7dcc0774c03ad64aaa5df7d514f",
            "value": " 3.34k/3.34k [00:00&lt;00:00, 50.3kB/s]"
          }
        },
        "fe2ccf87ba3a47b89364563b2d32d2b9": {
          "model_module": "@jupyter-widgets/base",
          "model_name": "LayoutModel",
          "model_module_version": "1.2.0",
          "state": {
            "_model_module": "@jupyter-widgets/base",
            "_model_module_version": "1.2.0",
            "_model_name": "LayoutModel",
            "_view_count": null,
            "_view_module": "@jupyter-widgets/base",
            "_view_module_version": "1.2.0",
            "_view_name": "LayoutView",
            "align_content": null,
            "align_items": null,
            "align_self": null,
            "border": null,
            "bottom": null,
            "display": null,
            "flex": null,
            "flex_flow": null,
            "grid_area": null,
            "grid_auto_columns": null,
            "grid_auto_flow": null,
            "grid_auto_rows": null,
            "grid_column": null,
            "grid_gap": null,
            "grid_row": null,
            "grid_template_areas": null,
            "grid_template_columns": null,
            "grid_template_rows": null,
            "height": null,
            "justify_content": null,
            "justify_items": null,
            "left": null,
            "margin": null,
            "max_height": null,
            "max_width": null,
            "min_height": null,
            "min_width": null,
            "object_fit": null,
            "object_position": null,
            "order": null,
            "overflow": null,
            "overflow_x": null,
            "overflow_y": null,
            "padding": null,
            "right": null,
            "top": null,
            "visibility": null,
            "width": null
          }
        },
        "8e3aeb6a9d714d49b20ebf120bad322b": {
          "model_module": "@jupyter-widgets/base",
          "model_name": "LayoutModel",
          "model_module_version": "1.2.0",
          "state": {
            "_model_module": "@jupyter-widgets/base",
            "_model_module_version": "1.2.0",
            "_model_name": "LayoutModel",
            "_view_count": null,
            "_view_module": "@jupyter-widgets/base",
            "_view_module_version": "1.2.0",
            "_view_name": "LayoutView",
            "align_content": null,
            "align_items": null,
            "align_self": null,
            "border": null,
            "bottom": null,
            "display": null,
            "flex": null,
            "flex_flow": null,
            "grid_area": null,
            "grid_auto_columns": null,
            "grid_auto_flow": null,
            "grid_auto_rows": null,
            "grid_column": null,
            "grid_gap": null,
            "grid_row": null,
            "grid_template_areas": null,
            "grid_template_columns": null,
            "grid_template_rows": null,
            "height": null,
            "justify_content": null,
            "justify_items": null,
            "left": null,
            "margin": null,
            "max_height": null,
            "max_width": null,
            "min_height": null,
            "min_width": null,
            "object_fit": null,
            "object_position": null,
            "order": null,
            "overflow": null,
            "overflow_x": null,
            "overflow_y": null,
            "padding": null,
            "right": null,
            "top": null,
            "visibility": null,
            "width": null
          }
        },
        "4371a4e8df7949c8acfabc7543625c2a": {
          "model_module": "@jupyter-widgets/controls",
          "model_name": "DescriptionStyleModel",
          "model_module_version": "1.5.0",
          "state": {
            "_model_module": "@jupyter-widgets/controls",
            "_model_module_version": "1.5.0",
            "_model_name": "DescriptionStyleModel",
            "_view_count": null,
            "_view_module": "@jupyter-widgets/base",
            "_view_module_version": "1.2.0",
            "_view_name": "StyleView",
            "description_width": ""
          }
        },
        "05d62a047f68498e9f87630e543e479a": {
          "model_module": "@jupyter-widgets/base",
          "model_name": "LayoutModel",
          "model_module_version": "1.2.0",
          "state": {
            "_model_module": "@jupyter-widgets/base",
            "_model_module_version": "1.2.0",
            "_model_name": "LayoutModel",
            "_view_count": null,
            "_view_module": "@jupyter-widgets/base",
            "_view_module_version": "1.2.0",
            "_view_name": "LayoutView",
            "align_content": null,
            "align_items": null,
            "align_self": null,
            "border": null,
            "bottom": null,
            "display": null,
            "flex": null,
            "flex_flow": null,
            "grid_area": null,
            "grid_auto_columns": null,
            "grid_auto_flow": null,
            "grid_auto_rows": null,
            "grid_column": null,
            "grid_gap": null,
            "grid_row": null,
            "grid_template_areas": null,
            "grid_template_columns": null,
            "grid_template_rows": null,
            "height": null,
            "justify_content": null,
            "justify_items": null,
            "left": null,
            "margin": null,
            "max_height": null,
            "max_width": null,
            "min_height": null,
            "min_width": null,
            "object_fit": null,
            "object_position": null,
            "order": null,
            "overflow": null,
            "overflow_x": null,
            "overflow_y": null,
            "padding": null,
            "right": null,
            "top": null,
            "visibility": null,
            "width": null
          }
        },
        "68dc3337dd8349fd9bc88af426c00ca7": {
          "model_module": "@jupyter-widgets/controls",
          "model_name": "ProgressStyleModel",
          "model_module_version": "1.5.0",
          "state": {
            "_model_module": "@jupyter-widgets/controls",
            "_model_module_version": "1.5.0",
            "_model_name": "ProgressStyleModel",
            "_view_count": null,
            "_view_module": "@jupyter-widgets/base",
            "_view_module_version": "1.2.0",
            "_view_name": "StyleView",
            "bar_color": null,
            "description_width": ""
          }
        },
        "ba3a863f7e9043f19ed64c264249e337": {
          "model_module": "@jupyter-widgets/base",
          "model_name": "LayoutModel",
          "model_module_version": "1.2.0",
          "state": {
            "_model_module": "@jupyter-widgets/base",
            "_model_module_version": "1.2.0",
            "_model_name": "LayoutModel",
            "_view_count": null,
            "_view_module": "@jupyter-widgets/base",
            "_view_module_version": "1.2.0",
            "_view_name": "LayoutView",
            "align_content": null,
            "align_items": null,
            "align_self": null,
            "border": null,
            "bottom": null,
            "display": null,
            "flex": null,
            "flex_flow": null,
            "grid_area": null,
            "grid_auto_columns": null,
            "grid_auto_flow": null,
            "grid_auto_rows": null,
            "grid_column": null,
            "grid_gap": null,
            "grid_row": null,
            "grid_template_areas": null,
            "grid_template_columns": null,
            "grid_template_rows": null,
            "height": null,
            "justify_content": null,
            "justify_items": null,
            "left": null,
            "margin": null,
            "max_height": null,
            "max_width": null,
            "min_height": null,
            "min_width": null,
            "object_fit": null,
            "object_position": null,
            "order": null,
            "overflow": null,
            "overflow_x": null,
            "overflow_y": null,
            "padding": null,
            "right": null,
            "top": null,
            "visibility": null,
            "width": null
          }
        },
        "2e13c7dcc0774c03ad64aaa5df7d514f": {
          "model_module": "@jupyter-widgets/controls",
          "model_name": "DescriptionStyleModel",
          "model_module_version": "1.5.0",
          "state": {
            "_model_module": "@jupyter-widgets/controls",
            "_model_module_version": "1.5.0",
            "_model_name": "DescriptionStyleModel",
            "_view_count": null,
            "_view_module": "@jupyter-widgets/base",
            "_view_module_version": "1.2.0",
            "_view_name": "StyleView",
            "description_width": ""
          }
        },
        "543237cf5ee74ef99d1306c602d2642c": {
          "model_module": "@jupyter-widgets/controls",
          "model_name": "HBoxModel",
          "model_module_version": "1.5.0",
          "state": {
            "_dom_classes": [],
            "_model_module": "@jupyter-widgets/controls",
            "_model_module_version": "1.5.0",
            "_model_name": "HBoxModel",
            "_view_count": null,
            "_view_module": "@jupyter-widgets/controls",
            "_view_module_version": "1.5.0",
            "_view_name": "HBoxView",
            "box_style": "",
            "children": [
              "IPY_MODEL_664c5a34d42f4113ba0a21d15f8a8fe7",
              "IPY_MODEL_ef6fc0d1d49944e38f35fbe063eedaba",
              "IPY_MODEL_a9ab605b8a114dd3a9ccc76df1e5916b"
            ],
            "layout": "IPY_MODEL_958f1b33005d4fff9a9cdd6484a521e3"
          }
        },
        "664c5a34d42f4113ba0a21d15f8a8fe7": {
          "model_module": "@jupyter-widgets/controls",
          "model_name": "HTMLModel",
          "model_module_version": "1.5.0",
          "state": {
            "_dom_classes": [],
            "_model_module": "@jupyter-widgets/controls",
            "_model_module_version": "1.5.0",
            "_model_name": "HTMLModel",
            "_view_count": null,
            "_view_module": "@jupyter-widgets/controls",
            "_view_module_version": "1.5.0",
            "_view_name": "HTMLView",
            "description": "",
            "description_tooltip": null,
            "layout": "IPY_MODEL_18b353817fbc4f1892ebefb317fefd25",
            "placeholder": "​",
            "style": "IPY_MODEL_89cde984e25547878c29a4dfab1073be",
            "value": "100%"
          }
        },
        "ef6fc0d1d49944e38f35fbe063eedaba": {
          "model_module": "@jupyter-widgets/controls",
          "model_name": "FloatProgressModel",
          "model_module_version": "1.5.0",
          "state": {
            "_dom_classes": [],
            "_model_module": "@jupyter-widgets/controls",
            "_model_module_version": "1.5.0",
            "_model_name": "FloatProgressModel",
            "_view_count": null,
            "_view_module": "@jupyter-widgets/controls",
            "_view_module_version": "1.5.0",
            "_view_name": "ProgressView",
            "bar_style": "success",
            "description": "",
            "description_tooltip": null,
            "layout": "IPY_MODEL_f4ec99c999404c4b994843e8f999145c",
            "max": 499997,
            "min": 0,
            "orientation": "horizontal",
            "style": "IPY_MODEL_7c421fdf50564f7fafa57c4fdcc63e66",
            "value": 499997
          }
        },
        "a9ab605b8a114dd3a9ccc76df1e5916b": {
          "model_module": "@jupyter-widgets/controls",
          "model_name": "HTMLModel",
          "model_module_version": "1.5.0",
          "state": {
            "_dom_classes": [],
            "_model_module": "@jupyter-widgets/controls",
            "_model_module_version": "1.5.0",
            "_model_name": "HTMLModel",
            "_view_count": null,
            "_view_module": "@jupyter-widgets/controls",
            "_view_module_version": "1.5.0",
            "_view_name": "HTMLView",
            "description": "",
            "description_tooltip": null,
            "layout": "IPY_MODEL_9f0f411c064e40119fc6a701d1160cd9",
            "placeholder": "​",
            "style": "IPY_MODEL_b2a19c3cd34e432795e3785c6da45932",
            "value": " 499997/499997 [01:20&lt;00:00, 6724.69ex/s]"
          }
        },
        "958f1b33005d4fff9a9cdd6484a521e3": {
          "model_module": "@jupyter-widgets/base",
          "model_name": "LayoutModel",
          "model_module_version": "1.2.0",
          "state": {
            "_model_module": "@jupyter-widgets/base",
            "_model_module_version": "1.2.0",
            "_model_name": "LayoutModel",
            "_view_count": null,
            "_view_module": "@jupyter-widgets/base",
            "_view_module_version": "1.2.0",
            "_view_name": "LayoutView",
            "align_content": null,
            "align_items": null,
            "align_self": null,
            "border": null,
            "bottom": null,
            "display": null,
            "flex": null,
            "flex_flow": null,
            "grid_area": null,
            "grid_auto_columns": null,
            "grid_auto_flow": null,
            "grid_auto_rows": null,
            "grid_column": null,
            "grid_gap": null,
            "grid_row": null,
            "grid_template_areas": null,
            "grid_template_columns": null,
            "grid_template_rows": null,
            "height": null,
            "justify_content": null,
            "justify_items": null,
            "left": null,
            "margin": null,
            "max_height": null,
            "max_width": null,
            "min_height": null,
            "min_width": null,
            "object_fit": null,
            "object_position": null,
            "order": null,
            "overflow": null,
            "overflow_x": null,
            "overflow_y": null,
            "padding": null,
            "right": null,
            "top": null,
            "visibility": null,
            "width": null
          }
        },
        "18b353817fbc4f1892ebefb317fefd25": {
          "model_module": "@jupyter-widgets/base",
          "model_name": "LayoutModel",
          "model_module_version": "1.2.0",
          "state": {
            "_model_module": "@jupyter-widgets/base",
            "_model_module_version": "1.2.0",
            "_model_name": "LayoutModel",
            "_view_count": null,
            "_view_module": "@jupyter-widgets/base",
            "_view_module_version": "1.2.0",
            "_view_name": "LayoutView",
            "align_content": null,
            "align_items": null,
            "align_self": null,
            "border": null,
            "bottom": null,
            "display": null,
            "flex": null,
            "flex_flow": null,
            "grid_area": null,
            "grid_auto_columns": null,
            "grid_auto_flow": null,
            "grid_auto_rows": null,
            "grid_column": null,
            "grid_gap": null,
            "grid_row": null,
            "grid_template_areas": null,
            "grid_template_columns": null,
            "grid_template_rows": null,
            "height": null,
            "justify_content": null,
            "justify_items": null,
            "left": null,
            "margin": null,
            "max_height": null,
            "max_width": null,
            "min_height": null,
            "min_width": null,
            "object_fit": null,
            "object_position": null,
            "order": null,
            "overflow": null,
            "overflow_x": null,
            "overflow_y": null,
            "padding": null,
            "right": null,
            "top": null,
            "visibility": null,
            "width": null
          }
        },
        "89cde984e25547878c29a4dfab1073be": {
          "model_module": "@jupyter-widgets/controls",
          "model_name": "DescriptionStyleModel",
          "model_module_version": "1.5.0",
          "state": {
            "_model_module": "@jupyter-widgets/controls",
            "_model_module_version": "1.5.0",
            "_model_name": "DescriptionStyleModel",
            "_view_count": null,
            "_view_module": "@jupyter-widgets/base",
            "_view_module_version": "1.2.0",
            "_view_name": "StyleView",
            "description_width": ""
          }
        },
        "f4ec99c999404c4b994843e8f999145c": {
          "model_module": "@jupyter-widgets/base",
          "model_name": "LayoutModel",
          "model_module_version": "1.2.0",
          "state": {
            "_model_module": "@jupyter-widgets/base",
            "_model_module_version": "1.2.0",
            "_model_name": "LayoutModel",
            "_view_count": null,
            "_view_module": "@jupyter-widgets/base",
            "_view_module_version": "1.2.0",
            "_view_name": "LayoutView",
            "align_content": null,
            "align_items": null,
            "align_self": null,
            "border": null,
            "bottom": null,
            "display": null,
            "flex": null,
            "flex_flow": null,
            "grid_area": null,
            "grid_auto_columns": null,
            "grid_auto_flow": null,
            "grid_auto_rows": null,
            "grid_column": null,
            "grid_gap": null,
            "grid_row": null,
            "grid_template_areas": null,
            "grid_template_columns": null,
            "grid_template_rows": null,
            "height": null,
            "justify_content": null,
            "justify_items": null,
            "left": null,
            "margin": null,
            "max_height": null,
            "max_width": null,
            "min_height": null,
            "min_width": null,
            "object_fit": null,
            "object_position": null,
            "order": null,
            "overflow": null,
            "overflow_x": null,
            "overflow_y": null,
            "padding": null,
            "right": null,
            "top": null,
            "visibility": null,
            "width": null
          }
        },
        "7c421fdf50564f7fafa57c4fdcc63e66": {
          "model_module": "@jupyter-widgets/controls",
          "model_name": "ProgressStyleModel",
          "model_module_version": "1.5.0",
          "state": {
            "_model_module": "@jupyter-widgets/controls",
            "_model_module_version": "1.5.0",
            "_model_name": "ProgressStyleModel",
            "_view_count": null,
            "_view_module": "@jupyter-widgets/base",
            "_view_module_version": "1.2.0",
            "_view_name": "StyleView",
            "bar_color": null,
            "description_width": ""
          }
        },
        "9f0f411c064e40119fc6a701d1160cd9": {
          "model_module": "@jupyter-widgets/base",
          "model_name": "LayoutModel",
          "model_module_version": "1.2.0",
          "state": {
            "_model_module": "@jupyter-widgets/base",
            "_model_module_version": "1.2.0",
            "_model_name": "LayoutModel",
            "_view_count": null,
            "_view_module": "@jupyter-widgets/base",
            "_view_module_version": "1.2.0",
            "_view_name": "LayoutView",
            "align_content": null,
            "align_items": null,
            "align_self": null,
            "border": null,
            "bottom": null,
            "display": null,
            "flex": null,
            "flex_flow": null,
            "grid_area": null,
            "grid_auto_columns": null,
            "grid_auto_flow": null,
            "grid_auto_rows": null,
            "grid_column": null,
            "grid_gap": null,
            "grid_row": null,
            "grid_template_areas": null,
            "grid_template_columns": null,
            "grid_template_rows": null,
            "height": null,
            "justify_content": null,
            "justify_items": null,
            "left": null,
            "margin": null,
            "max_height": null,
            "max_width": null,
            "min_height": null,
            "min_width": null,
            "object_fit": null,
            "object_position": null,
            "order": null,
            "overflow": null,
            "overflow_x": null,
            "overflow_y": null,
            "padding": null,
            "right": null,
            "top": null,
            "visibility": null,
            "width": null
          }
        },
        "b2a19c3cd34e432795e3785c6da45932": {
          "model_module": "@jupyter-widgets/controls",
          "model_name": "DescriptionStyleModel",
          "model_module_version": "1.5.0",
          "state": {
            "_model_module": "@jupyter-widgets/controls",
            "_model_module_version": "1.5.0",
            "_model_name": "DescriptionStyleModel",
            "_view_count": null,
            "_view_module": "@jupyter-widgets/base",
            "_view_module_version": "1.2.0",
            "_view_name": "StyleView",
            "description_width": ""
          }
        },
        "db687f5be3c54a06b38516c9ae3d49e9": {
          "model_module": "@jupyter-widgets/controls",
          "model_name": "HBoxModel",
          "model_module_version": "1.5.0",
          "state": {
            "_dom_classes": [],
            "_model_module": "@jupyter-widgets/controls",
            "_model_module_version": "1.5.0",
            "_model_name": "HBoxModel",
            "_view_count": null,
            "_view_module": "@jupyter-widgets/controls",
            "_view_module_version": "1.5.0",
            "_view_name": "HBoxView",
            "box_style": "",
            "children": [
              "IPY_MODEL_162793c8a373435aac657055814d78ff",
              "IPY_MODEL_5dae1d6ef74d4a72a233b4c41ecca029",
              "IPY_MODEL_b46dc733ec7c408f998ca9a31685b303"
            ],
            "layout": "IPY_MODEL_df66c53dacc142beb6f4e38895cfc337"
          }
        },
        "162793c8a373435aac657055814d78ff": {
          "model_module": "@jupyter-widgets/controls",
          "model_name": "HTMLModel",
          "model_module_version": "1.5.0",
          "state": {
            "_dom_classes": [],
            "_model_module": "@jupyter-widgets/controls",
            "_model_module_version": "1.5.0",
            "_model_name": "HTMLModel",
            "_view_count": null,
            "_view_module": "@jupyter-widgets/controls",
            "_view_module_version": "1.5.0",
            "_view_name": "HTMLView",
            "description": "",
            "description_tooltip": null,
            "layout": "IPY_MODEL_0125f179b4964aac95ae83958af01319",
            "placeholder": "​",
            "style": "IPY_MODEL_ad1c4aedfb6948eda5068036098b1c25",
            "value": "100%"
          }
        },
        "5dae1d6ef74d4a72a233b4c41ecca029": {
          "model_module": "@jupyter-widgets/controls",
          "model_name": "FloatProgressModel",
          "model_module_version": "1.5.0",
          "state": {
            "_dom_classes": [],
            "_model_module": "@jupyter-widgets/controls",
            "_model_module_version": "1.5.0",
            "_model_name": "FloatProgressModel",
            "_view_count": null,
            "_view_module": "@jupyter-widgets/controls",
            "_view_module_version": "1.5.0",
            "_view_name": "ProgressView",
            "bar_style": "success",
            "description": "",
            "description_tooltip": null,
            "layout": "IPY_MODEL_1343338ab06f4ae08a80bff9f34c8db2",
            "max": 3000,
            "min": 0,
            "orientation": "horizontal",
            "style": "IPY_MODEL_9f71c903fbe74a03b41d6b4b7acc2ede",
            "value": 3000
          }
        },
        "b46dc733ec7c408f998ca9a31685b303": {
          "model_module": "@jupyter-widgets/controls",
          "model_name": "HTMLModel",
          "model_module_version": "1.5.0",
          "state": {
            "_dom_classes": [],
            "_model_module": "@jupyter-widgets/controls",
            "_model_module_version": "1.5.0",
            "_model_name": "HTMLModel",
            "_view_count": null,
            "_view_module": "@jupyter-widgets/controls",
            "_view_module_version": "1.5.0",
            "_view_name": "HTMLView",
            "description": "",
            "description_tooltip": null,
            "layout": "IPY_MODEL_ed67b91553204c9682137ac4e81282fb",
            "placeholder": "​",
            "style": "IPY_MODEL_76bbae9358724bc4a9bf25b33792b8a5",
            "value": " 3000/3000 [00:00&lt;00:00, 7296.28ex/s]"
          }
        },
        "df66c53dacc142beb6f4e38895cfc337": {
          "model_module": "@jupyter-widgets/base",
          "model_name": "LayoutModel",
          "model_module_version": "1.2.0",
          "state": {
            "_model_module": "@jupyter-widgets/base",
            "_model_module_version": "1.2.0",
            "_model_name": "LayoutModel",
            "_view_count": null,
            "_view_module": "@jupyter-widgets/base",
            "_view_module_version": "1.2.0",
            "_view_name": "LayoutView",
            "align_content": null,
            "align_items": null,
            "align_self": null,
            "border": null,
            "bottom": null,
            "display": null,
            "flex": null,
            "flex_flow": null,
            "grid_area": null,
            "grid_auto_columns": null,
            "grid_auto_flow": null,
            "grid_auto_rows": null,
            "grid_column": null,
            "grid_gap": null,
            "grid_row": null,
            "grid_template_areas": null,
            "grid_template_columns": null,
            "grid_template_rows": null,
            "height": null,
            "justify_content": null,
            "justify_items": null,
            "left": null,
            "margin": null,
            "max_height": null,
            "max_width": null,
            "min_height": null,
            "min_width": null,
            "object_fit": null,
            "object_position": null,
            "order": null,
            "overflow": null,
            "overflow_x": null,
            "overflow_y": null,
            "padding": null,
            "right": null,
            "top": null,
            "visibility": null,
            "width": null
          }
        },
        "0125f179b4964aac95ae83958af01319": {
          "model_module": "@jupyter-widgets/base",
          "model_name": "LayoutModel",
          "model_module_version": "1.2.0",
          "state": {
            "_model_module": "@jupyter-widgets/base",
            "_model_module_version": "1.2.0",
            "_model_name": "LayoutModel",
            "_view_count": null,
            "_view_module": "@jupyter-widgets/base",
            "_view_module_version": "1.2.0",
            "_view_name": "LayoutView",
            "align_content": null,
            "align_items": null,
            "align_self": null,
            "border": null,
            "bottom": null,
            "display": null,
            "flex": null,
            "flex_flow": null,
            "grid_area": null,
            "grid_auto_columns": null,
            "grid_auto_flow": null,
            "grid_auto_rows": null,
            "grid_column": null,
            "grid_gap": null,
            "grid_row": null,
            "grid_template_areas": null,
            "grid_template_columns": null,
            "grid_template_rows": null,
            "height": null,
            "justify_content": null,
            "justify_items": null,
            "left": null,
            "margin": null,
            "max_height": null,
            "max_width": null,
            "min_height": null,
            "min_width": null,
            "object_fit": null,
            "object_position": null,
            "order": null,
            "overflow": null,
            "overflow_x": null,
            "overflow_y": null,
            "padding": null,
            "right": null,
            "top": null,
            "visibility": null,
            "width": null
          }
        },
        "ad1c4aedfb6948eda5068036098b1c25": {
          "model_module": "@jupyter-widgets/controls",
          "model_name": "DescriptionStyleModel",
          "model_module_version": "1.5.0",
          "state": {
            "_model_module": "@jupyter-widgets/controls",
            "_model_module_version": "1.5.0",
            "_model_name": "DescriptionStyleModel",
            "_view_count": null,
            "_view_module": "@jupyter-widgets/base",
            "_view_module_version": "1.2.0",
            "_view_name": "StyleView",
            "description_width": ""
          }
        },
        "1343338ab06f4ae08a80bff9f34c8db2": {
          "model_module": "@jupyter-widgets/base",
          "model_name": "LayoutModel",
          "model_module_version": "1.2.0",
          "state": {
            "_model_module": "@jupyter-widgets/base",
            "_model_module_version": "1.2.0",
            "_model_name": "LayoutModel",
            "_view_count": null,
            "_view_module": "@jupyter-widgets/base",
            "_view_module_version": "1.2.0",
            "_view_name": "LayoutView",
            "align_content": null,
            "align_items": null,
            "align_self": null,
            "border": null,
            "bottom": null,
            "display": null,
            "flex": null,
            "flex_flow": null,
            "grid_area": null,
            "grid_auto_columns": null,
            "grid_auto_flow": null,
            "grid_auto_rows": null,
            "grid_column": null,
            "grid_gap": null,
            "grid_row": null,
            "grid_template_areas": null,
            "grid_template_columns": null,
            "grid_template_rows": null,
            "height": null,
            "justify_content": null,
            "justify_items": null,
            "left": null,
            "margin": null,
            "max_height": null,
            "max_width": null,
            "min_height": null,
            "min_width": null,
            "object_fit": null,
            "object_position": null,
            "order": null,
            "overflow": null,
            "overflow_x": null,
            "overflow_y": null,
            "padding": null,
            "right": null,
            "top": null,
            "visibility": null,
            "width": null
          }
        },
        "9f71c903fbe74a03b41d6b4b7acc2ede": {
          "model_module": "@jupyter-widgets/controls",
          "model_name": "ProgressStyleModel",
          "model_module_version": "1.5.0",
          "state": {
            "_model_module": "@jupyter-widgets/controls",
            "_model_module_version": "1.5.0",
            "_model_name": "ProgressStyleModel",
            "_view_count": null,
            "_view_module": "@jupyter-widgets/base",
            "_view_module_version": "1.2.0",
            "_view_name": "StyleView",
            "bar_color": null,
            "description_width": ""
          }
        },
        "ed67b91553204c9682137ac4e81282fb": {
          "model_module": "@jupyter-widgets/base",
          "model_name": "LayoutModel",
          "model_module_version": "1.2.0",
          "state": {
            "_model_module": "@jupyter-widgets/base",
            "_model_module_version": "1.2.0",
            "_model_name": "LayoutModel",
            "_view_count": null,
            "_view_module": "@jupyter-widgets/base",
            "_view_module_version": "1.2.0",
            "_view_name": "LayoutView",
            "align_content": null,
            "align_items": null,
            "align_self": null,
            "border": null,
            "bottom": null,
            "display": null,
            "flex": null,
            "flex_flow": null,
            "grid_area": null,
            "grid_auto_columns": null,
            "grid_auto_flow": null,
            "grid_auto_rows": null,
            "grid_column": null,
            "grid_gap": null,
            "grid_row": null,
            "grid_template_areas": null,
            "grid_template_columns": null,
            "grid_template_rows": null,
            "height": null,
            "justify_content": null,
            "justify_items": null,
            "left": null,
            "margin": null,
            "max_height": null,
            "max_width": null,
            "min_height": null,
            "min_width": null,
            "object_fit": null,
            "object_position": null,
            "order": null,
            "overflow": null,
            "overflow_x": null,
            "overflow_y": null,
            "padding": null,
            "right": null,
            "top": null,
            "visibility": null,
            "width": null
          }
        },
        "76bbae9358724bc4a9bf25b33792b8a5": {
          "model_module": "@jupyter-widgets/controls",
          "model_name": "DescriptionStyleModel",
          "model_module_version": "1.5.0",
          "state": {
            "_model_module": "@jupyter-widgets/controls",
            "_model_module_version": "1.5.0",
            "_model_name": "DescriptionStyleModel",
            "_view_count": null,
            "_view_module": "@jupyter-widgets/base",
            "_view_module_version": "1.2.0",
            "_view_name": "StyleView",
            "description_width": ""
          }
        },
        "f5c50f2861ea4763840766e1c4a53249": {
          "model_module": "@jupyter-widgets/controls",
          "model_name": "HBoxModel",
          "model_module_version": "1.5.0",
          "state": {
            "_dom_classes": [],
            "_model_module": "@jupyter-widgets/controls",
            "_model_module_version": "1.5.0",
            "_model_name": "HBoxModel",
            "_view_count": null,
            "_view_module": "@jupyter-widgets/controls",
            "_view_module_version": "1.5.0",
            "_view_name": "HBoxView",
            "box_style": "",
            "children": [
              "IPY_MODEL_f4c2ea6ad26442bab770436ecb99ae46",
              "IPY_MODEL_613f6a39a73e4ebbbfe3d072b265b528",
              "IPY_MODEL_92f0de7bfe604777a63b66d2be2b66d1"
            ],
            "layout": "IPY_MODEL_6a35764a37e44109868a9135e23dcc0e"
          }
        },
        "f4c2ea6ad26442bab770436ecb99ae46": {
          "model_module": "@jupyter-widgets/controls",
          "model_name": "HTMLModel",
          "model_module_version": "1.5.0",
          "state": {
            "_dom_classes": [],
            "_model_module": "@jupyter-widgets/controls",
            "_model_module_version": "1.5.0",
            "_model_name": "HTMLModel",
            "_view_count": null,
            "_view_module": "@jupyter-widgets/controls",
            "_view_module_version": "1.5.0",
            "_view_name": "HTMLView",
            "description": "",
            "description_tooltip": null,
            "layout": "IPY_MODEL_3de48455e6624463b99a9e8c6ef40ef5",
            "placeholder": "​",
            "style": "IPY_MODEL_6ce22abc0ff040dabaacb2a2dc2e32da",
            "value": "100%"
          }
        },
        "613f6a39a73e4ebbbfe3d072b265b528": {
          "model_module": "@jupyter-widgets/controls",
          "model_name": "FloatProgressModel",
          "model_module_version": "1.5.0",
          "state": {
            "_dom_classes": [],
            "_model_module": "@jupyter-widgets/controls",
            "_model_module_version": "1.5.0",
            "_model_name": "FloatProgressModel",
            "_view_count": null,
            "_view_module": "@jupyter-widgets/controls",
            "_view_module_version": "1.5.0",
            "_view_name": "ProgressView",
            "bar_style": "success",
            "description": "",
            "description_tooltip": null,
            "layout": "IPY_MODEL_f87804abfae34ebf8321ab0c5fd4abf7",
            "max": 3003,
            "min": 0,
            "orientation": "horizontal",
            "style": "IPY_MODEL_50c98ce986f543979c7a0f9315ccd9b5",
            "value": 3003
          }
        },
        "92f0de7bfe604777a63b66d2be2b66d1": {
          "model_module": "@jupyter-widgets/controls",
          "model_name": "HTMLModel",
          "model_module_version": "1.5.0",
          "state": {
            "_dom_classes": [],
            "_model_module": "@jupyter-widgets/controls",
            "_model_module_version": "1.5.0",
            "_model_name": "HTMLModel",
            "_view_count": null,
            "_view_module": "@jupyter-widgets/controls",
            "_view_module_version": "1.5.0",
            "_view_name": "HTMLView",
            "description": "",
            "description_tooltip": null,
            "layout": "IPY_MODEL_b660ca111907434ba9696d93d0a3311b",
            "placeholder": "​",
            "style": "IPY_MODEL_a54b6fbf673f46c090c72714d33518b5",
            "value": " 3003/3003 [00:00&lt;00:00, 6800.59ex/s]"
          }
        },
        "6a35764a37e44109868a9135e23dcc0e": {
          "model_module": "@jupyter-widgets/base",
          "model_name": "LayoutModel",
          "model_module_version": "1.2.0",
          "state": {
            "_model_module": "@jupyter-widgets/base",
            "_model_module_version": "1.2.0",
            "_model_name": "LayoutModel",
            "_view_count": null,
            "_view_module": "@jupyter-widgets/base",
            "_view_module_version": "1.2.0",
            "_view_name": "LayoutView",
            "align_content": null,
            "align_items": null,
            "align_self": null,
            "border": null,
            "bottom": null,
            "display": null,
            "flex": null,
            "flex_flow": null,
            "grid_area": null,
            "grid_auto_columns": null,
            "grid_auto_flow": null,
            "grid_auto_rows": null,
            "grid_column": null,
            "grid_gap": null,
            "grid_row": null,
            "grid_template_areas": null,
            "grid_template_columns": null,
            "grid_template_rows": null,
            "height": null,
            "justify_content": null,
            "justify_items": null,
            "left": null,
            "margin": null,
            "max_height": null,
            "max_width": null,
            "min_height": null,
            "min_width": null,
            "object_fit": null,
            "object_position": null,
            "order": null,
            "overflow": null,
            "overflow_x": null,
            "overflow_y": null,
            "padding": null,
            "right": null,
            "top": null,
            "visibility": null,
            "width": null
          }
        },
        "3de48455e6624463b99a9e8c6ef40ef5": {
          "model_module": "@jupyter-widgets/base",
          "model_name": "LayoutModel",
          "model_module_version": "1.2.0",
          "state": {
            "_model_module": "@jupyter-widgets/base",
            "_model_module_version": "1.2.0",
            "_model_name": "LayoutModel",
            "_view_count": null,
            "_view_module": "@jupyter-widgets/base",
            "_view_module_version": "1.2.0",
            "_view_name": "LayoutView",
            "align_content": null,
            "align_items": null,
            "align_self": null,
            "border": null,
            "bottom": null,
            "display": null,
            "flex": null,
            "flex_flow": null,
            "grid_area": null,
            "grid_auto_columns": null,
            "grid_auto_flow": null,
            "grid_auto_rows": null,
            "grid_column": null,
            "grid_gap": null,
            "grid_row": null,
            "grid_template_areas": null,
            "grid_template_columns": null,
            "grid_template_rows": null,
            "height": null,
            "justify_content": null,
            "justify_items": null,
            "left": null,
            "margin": null,
            "max_height": null,
            "max_width": null,
            "min_height": null,
            "min_width": null,
            "object_fit": null,
            "object_position": null,
            "order": null,
            "overflow": null,
            "overflow_x": null,
            "overflow_y": null,
            "padding": null,
            "right": null,
            "top": null,
            "visibility": null,
            "width": null
          }
        },
        "6ce22abc0ff040dabaacb2a2dc2e32da": {
          "model_module": "@jupyter-widgets/controls",
          "model_name": "DescriptionStyleModel",
          "model_module_version": "1.5.0",
          "state": {
            "_model_module": "@jupyter-widgets/controls",
            "_model_module_version": "1.5.0",
            "_model_name": "DescriptionStyleModel",
            "_view_count": null,
            "_view_module": "@jupyter-widgets/base",
            "_view_module_version": "1.2.0",
            "_view_name": "StyleView",
            "description_width": ""
          }
        },
        "f87804abfae34ebf8321ab0c5fd4abf7": {
          "model_module": "@jupyter-widgets/base",
          "model_name": "LayoutModel",
          "model_module_version": "1.2.0",
          "state": {
            "_model_module": "@jupyter-widgets/base",
            "_model_module_version": "1.2.0",
            "_model_name": "LayoutModel",
            "_view_count": null,
            "_view_module": "@jupyter-widgets/base",
            "_view_module_version": "1.2.0",
            "_view_name": "LayoutView",
            "align_content": null,
            "align_items": null,
            "align_self": null,
            "border": null,
            "bottom": null,
            "display": null,
            "flex": null,
            "flex_flow": null,
            "grid_area": null,
            "grid_auto_columns": null,
            "grid_auto_flow": null,
            "grid_auto_rows": null,
            "grid_column": null,
            "grid_gap": null,
            "grid_row": null,
            "grid_template_areas": null,
            "grid_template_columns": null,
            "grid_template_rows": null,
            "height": null,
            "justify_content": null,
            "justify_items": null,
            "left": null,
            "margin": null,
            "max_height": null,
            "max_width": null,
            "min_height": null,
            "min_width": null,
            "object_fit": null,
            "object_position": null,
            "order": null,
            "overflow": null,
            "overflow_x": null,
            "overflow_y": null,
            "padding": null,
            "right": null,
            "top": null,
            "visibility": null,
            "width": null
          }
        },
        "50c98ce986f543979c7a0f9315ccd9b5": {
          "model_module": "@jupyter-widgets/controls",
          "model_name": "ProgressStyleModel",
          "model_module_version": "1.5.0",
          "state": {
            "_model_module": "@jupyter-widgets/controls",
            "_model_module_version": "1.5.0",
            "_model_name": "ProgressStyleModel",
            "_view_count": null,
            "_view_module": "@jupyter-widgets/base",
            "_view_module_version": "1.2.0",
            "_view_name": "StyleView",
            "bar_color": null,
            "description_width": ""
          }
        },
        "b660ca111907434ba9696d93d0a3311b": {
          "model_module": "@jupyter-widgets/base",
          "model_name": "LayoutModel",
          "model_module_version": "1.2.0",
          "state": {
            "_model_module": "@jupyter-widgets/base",
            "_model_module_version": "1.2.0",
            "_model_name": "LayoutModel",
            "_view_count": null,
            "_view_module": "@jupyter-widgets/base",
            "_view_module_version": "1.2.0",
            "_view_name": "LayoutView",
            "align_content": null,
            "align_items": null,
            "align_self": null,
            "border": null,
            "bottom": null,
            "display": null,
            "flex": null,
            "flex_flow": null,
            "grid_area": null,
            "grid_auto_columns": null,
            "grid_auto_flow": null,
            "grid_auto_rows": null,
            "grid_column": null,
            "grid_gap": null,
            "grid_row": null,
            "grid_template_areas": null,
            "grid_template_columns": null,
            "grid_template_rows": null,
            "height": null,
            "justify_content": null,
            "justify_items": null,
            "left": null,
            "margin": null,
            "max_height": null,
            "max_width": null,
            "min_height": null,
            "min_width": null,
            "object_fit": null,
            "object_position": null,
            "order": null,
            "overflow": null,
            "overflow_x": null,
            "overflow_y": null,
            "padding": null,
            "right": null,
            "top": null,
            "visibility": null,
            "width": null
          }
        },
        "a54b6fbf673f46c090c72714d33518b5": {
          "model_module": "@jupyter-widgets/controls",
          "model_name": "DescriptionStyleModel",
          "model_module_version": "1.5.0",
          "state": {
            "_model_module": "@jupyter-widgets/controls",
            "_model_module_version": "1.5.0",
            "_model_name": "DescriptionStyleModel",
            "_view_count": null,
            "_view_module": "@jupyter-widgets/base",
            "_view_module_version": "1.2.0",
            "_view_name": "StyleView",
            "description_width": ""
          }
        }
      }
    },
    "colab": {
      "provenance": []
    },
    "gpuClass": "standard",
    "accelerator": "GPU"
  },
  "nbformat": 4,
  "nbformat_minor": 5
}